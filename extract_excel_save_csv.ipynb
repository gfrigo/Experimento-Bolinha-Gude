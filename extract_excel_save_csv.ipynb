{
 "cells": [
  {
   "cell_type": "markdown",
   "id": "d778fe56-f72f-4d5b-9735-6a849911f6c1",
   "metadata": {},
   "source": [
    "# Física Experimental: Erros e Incertezas"
   ]
  },
  {
   "cell_type": "markdown",
   "id": "e4e457ec-4019-4576-82f7-e59cadca7307",
   "metadata": {},
   "source": [
    "`Nomes:`\n",
    "* Alice Vitória Boschetti\n",
    "* Felipe Cordeiro Carvalho\n",
    "* Gabriel Frigo Sena Silva\n",
    "* Joyce Nunes Alves\n",
    "* Eduardo Marques dos Santos\n",
    "* Kimberly Oliveira Germano Ribeiro"
   ]
  },
  {
   "cell_type": "markdown",
   "id": "5375b826-4f93-474c-a4b4-75d559cac8f9",
   "metadata": {},
   "source": [
    "## Import"
   ]
  },
  {
   "cell_type": "code",
   "execution_count": 108,
   "id": "a9d0a27e-5d32-4784-9e4f-a8b773372db5",
   "metadata": {},
   "outputs": [],
   "source": [
    "import pandas as pd\n",
    "import numpy as np\n",
    "import matplotlib.pyplot as plt\n",
    "import seaborn as sns\n",
    "import math\n",
    "\n",
    "from IPython.display import Image"
   ]
  },
  {
   "cell_type": "markdown",
   "id": "619b8f1f-4a12-4639-b963-3150cbe22f93",
   "metadata": {},
   "source": [
    "## Dataframe"
   ]
  },
  {
   "cell_type": "code",
   "execution_count": 109,
   "id": "0d68b45e-25dd-4732-a8e1-4a3a9c8e3c71",
   "metadata": {},
   "outputs": [
    {
     "data": {
      "text/html": [
       "<div>\n",
       "<style scoped>\n",
       "    .dataframe tbody tr th:only-of-type {\n",
       "        vertical-align: middle;\n",
       "    }\n",
       "\n",
       "    .dataframe tbody tr th {\n",
       "        vertical-align: top;\n",
       "    }\n",
       "\n",
       "    .dataframe thead th {\n",
       "        text-align: right;\n",
       "    }\n",
       "</style>\n",
       "<table border=\"1\" class=\"dataframe\">\n",
       "  <thead>\n",
       "    <tr style=\"text-align: right;\">\n",
       "      <th></th>\n",
       "      <th>D1</th>\n",
       "      <th>D2</th>\n",
       "    </tr>\n",
       "  </thead>\n",
       "  <tbody>\n",
       "    <tr>\n",
       "      <th>0</th>\n",
       "      <td>18.50</td>\n",
       "      <td>18.60</td>\n",
       "    </tr>\n",
       "    <tr>\n",
       "      <th>1</th>\n",
       "      <td>18.53</td>\n",
       "      <td>18.63</td>\n",
       "    </tr>\n",
       "    <tr>\n",
       "      <th>2</th>\n",
       "      <td>19.51</td>\n",
       "      <td>19.51</td>\n",
       "    </tr>\n",
       "    <tr>\n",
       "      <th>3</th>\n",
       "      <td>19.40</td>\n",
       "      <td>19.40</td>\n",
       "    </tr>\n",
       "    <tr>\n",
       "      <th>4</th>\n",
       "      <td>18.60</td>\n",
       "      <td>18.62</td>\n",
       "    </tr>\n",
       "  </tbody>\n",
       "</table>\n",
       "</div>"
      ],
      "text/plain": [
       "      D1     D2\n",
       "0  18.50  18.60\n",
       "1  18.53  18.63\n",
       "2  19.51  19.51\n",
       "3  19.40  19.40\n",
       "4  18.60  18.62"
      ]
     },
     "execution_count": 109,
     "metadata": {},
     "output_type": "execute_result"
    }
   ],
   "source": [
    "df = pd.read_excel('./data/measures_data.xlsx')\n",
    "df.head()"
   ]
  },
  {
   "cell_type": "code",
   "execution_count": 110,
   "id": "2a7c6f4b-6cad-436f-ac62-7e498517677e",
   "metadata": {},
   "outputs": [
    {
     "data": {
      "text/plain": [
       "(100, 2)"
      ]
     },
     "execution_count": 110,
     "metadata": {},
     "output_type": "execute_result"
    }
   ],
   "source": [
    "df.shape"
   ]
  },
  {
   "cell_type": "code",
   "execution_count": 111,
   "id": "5ba23df1-a989-4fbf-95fc-017fe90b8fb2",
   "metadata": {},
   "outputs": [
    {
     "name": "stdout",
     "output_type": "stream",
     "text": [
      "<class 'pandas.core.frame.DataFrame'>\n",
      "RangeIndex: 100 entries, 0 to 99\n",
      "Data columns (total 2 columns):\n",
      " #   Column  Non-Null Count  Dtype  \n",
      "---  ------  --------------  -----  \n",
      " 0   D1      100 non-null    float64\n",
      " 1   D2      100 non-null    float64\n",
      "dtypes: float64(2)\n",
      "memory usage: 1.7 KB\n"
     ]
    }
   ],
   "source": [
    "df.info()"
   ]
  },
  {
   "cell_type": "markdown",
   "id": "439c064c-fc07-4434-98fc-6d825598a7ed",
   "metadata": {},
   "source": [
    "## Coluna: Desvio absoluto"
   ]
  },
  {
   "cell_type": "markdown",
   "id": "aabce3fc-82d8-4dcb-a4d8-9c14da242553",
   "metadata": {},
   "source": [
    "#### D média"
   ]
  },
  {
   "cell_type": "code",
   "execution_count": 112,
   "id": "6d9035ee-8a68-4035-b511-08a6c20bc72a",
   "metadata": {},
   "outputs": [],
   "source": [
    "d_media_D1 = ((1/len(df))*(df['D1'].sum()))\n",
    "d_media_D2 = ((1/len(df))*(df['D2'].sum()))"
   ]
  },
  {
   "cell_type": "code",
   "execution_count": 113,
   "id": "bbf2334a-400a-4027-aa9e-bea501df14aa",
   "metadata": {},
   "outputs": [
    {
     "name": "stdout",
     "output_type": "stream",
     "text": [
      "D_media_1: 18.9607, D_media_2: 18.941300000000005\n"
     ]
    }
   ],
   "source": [
    "print(f'D_media_1: {d_media_D1}, D_media_2: {d_media_D2}')"
   ]
  },
  {
   "cell_type": "code",
   "execution_count": 114,
   "id": "66897925-ea03-4772-b3b1-debdfbe2c2d0",
   "metadata": {},
   "outputs": [
    {
     "data": {
      "image/png": "[encoded data removed]",
      "text/plain": [
       "<IPython.core.display.Image object>"
      ]
     },
     "execution_count": 114,
     "metadata": {},
     "output_type": "execute_result"
    }
   ],
   "source": [
    "Image(filename='./pictures/d_media.PNG')"
   ]
  },
  {
   "cell_type": "markdown",
   "id": "7fa57daa-1c1b-4445-b497-d4b5fe34a808",
   "metadata": {},
   "source": [
    "#### Calculando a Diferença entre D1 e D2"
   ]
  },
  {
   "cell_type": "code",
   "execution_count": 115,
   "id": "5fc8f9e1-9163-4d36-8568-917c3adbfdea",
   "metadata": {},
   "outputs": [
    {
     "data": {
      "text/html": [
       "<div>\n",
       "<style scoped>\n",
       "    .dataframe tbody tr th:only-of-type {\n",
       "        vertical-align: middle;\n",
       "    }\n",
       "\n",
       "    .dataframe tbody tr th {\n",
       "        vertical-align: top;\n",
       "    }\n",
       "\n",
       "    .dataframe thead th {\n",
       "        text-align: right;\n",
       "    }\n",
       "</style>\n",
       "<table border=\"1\" class=\"dataframe\">\n",
       "  <thead>\n",
       "    <tr style=\"text-align: right;\">\n",
       "      <th></th>\n",
       "      <th>D1</th>\n",
       "      <th>D2</th>\n",
       "      <th>diferenca_D1_D2</th>\n",
       "    </tr>\n",
       "  </thead>\n",
       "  <tbody>\n",
       "    <tr>\n",
       "      <th>0</th>\n",
       "      <td>18.50</td>\n",
       "      <td>18.60</td>\n",
       "      <td>0.10</td>\n",
       "    </tr>\n",
       "    <tr>\n",
       "      <th>1</th>\n",
       "      <td>18.53</td>\n",
       "      <td>18.63</td>\n",
       "      <td>0.10</td>\n",
       "    </tr>\n",
       "    <tr>\n",
       "      <th>2</th>\n",
       "      <td>19.51</td>\n",
       "      <td>19.51</td>\n",
       "      <td>0.00</td>\n",
       "    </tr>\n",
       "    <tr>\n",
       "      <th>3</th>\n",
       "      <td>19.40</td>\n",
       "      <td>19.40</td>\n",
       "      <td>0.00</td>\n",
       "    </tr>\n",
       "    <tr>\n",
       "      <th>4</th>\n",
       "      <td>18.60</td>\n",
       "      <td>18.62</td>\n",
       "      <td>0.02</td>\n",
       "    </tr>\n",
       "  </tbody>\n",
       "</table>\n",
       "</div>"
      ],
      "text/plain": [
       "      D1     D2  diferenca_D1_D2\n",
       "0  18.50  18.60             0.10\n",
       "1  18.53  18.63             0.10\n",
       "2  19.51  19.51             0.00\n",
       "3  19.40  19.40             0.00\n",
       "4  18.60  18.62             0.02"
      ]
     },
     "execution_count": 115,
     "metadata": {},
     "output_type": "execute_result"
    }
   ],
   "source": [
    "df['diferenca_D1_D2'] = df['D2'] - df['D1']\n",
    "df.head()"
   ]
  },
  {
   "cell_type": "markdown",
   "id": "e416e42f-d9c1-4790-9ee6-ed71ee749e7f",
   "metadata": {},
   "source": [
    "#### Calculando Desvio Absoluto D1 e D2"
   ]
  },
  {
   "cell_type": "code",
   "execution_count": 116,
   "id": "02e6e292-2abf-49e9-8b16-1402486be822",
   "metadata": {},
   "outputs": [
    {
     "data": {
      "image/png": "[encoded data removed]",
      "text/plain": [
       "<IPython.core.display.Image object>"
      ]
     },
     "execution_count": 116,
     "metadata": {},
     "output_type": "execute_result"
    }
   ],
   "source": [
    "Image(filename='./pictures/desvio_absoluto.PNG')"
   ]
  },
  {
   "cell_type": "code",
   "execution_count": 117,
   "id": "04f4f6df-f0ad-4b56-ba77-7535db55ad3c",
   "metadata": {},
   "outputs": [
    {
     "data": {
      "image/png": "[encoded data removed]",
      "text/plain": [
       "<IPython.core.display.Image object>"
      ]
     },
     "execution_count": 117,
     "metadata": {},
     "output_type": "execute_result"
    }
   ],
   "source": [
    "Image(filename='./pictures/variancia.PNG')"
   ]
  },
  {
   "cell_type": "code",
   "execution_count": 118,
   "id": "dff5026d-cbc4-4851-a2f0-b11d9610c071",
   "metadata": {},
   "outputs": [
    {
     "data": {
      "text/html": [
       "<div>\n",
       "<style scoped>\n",
       "    .dataframe tbody tr th:only-of-type {\n",
       "        vertical-align: middle;\n",
       "    }\n",
       "\n",
       "    .dataframe tbody tr th {\n",
       "        vertical-align: top;\n",
       "    }\n",
       "\n",
       "    .dataframe thead th {\n",
       "        text-align: right;\n",
       "    }\n",
       "</style>\n",
       "<table border=\"1\" class=\"dataframe\">\n",
       "  <thead>\n",
       "    <tr style=\"text-align: right;\">\n",
       "      <th></th>\n",
       "      <th>D1</th>\n",
       "      <th>D2</th>\n",
       "      <th>diferenca_D1_D2</th>\n",
       "      <th>desvio_absoluto_D1</th>\n",
       "      <th>desvio_absoluto_D2</th>\n",
       "    </tr>\n",
       "  </thead>\n",
       "  <tbody>\n",
       "    <tr>\n",
       "      <th>0</th>\n",
       "      <td>18.50</td>\n",
       "      <td>18.60</td>\n",
       "      <td>0.10</td>\n",
       "      <td>-0.4607</td>\n",
       "      <td>-0.3413</td>\n",
       "    </tr>\n",
       "    <tr>\n",
       "      <th>1</th>\n",
       "      <td>18.53</td>\n",
       "      <td>18.63</td>\n",
       "      <td>0.10</td>\n",
       "      <td>-0.4307</td>\n",
       "      <td>-0.3113</td>\n",
       "    </tr>\n",
       "    <tr>\n",
       "      <th>2</th>\n",
       "      <td>19.51</td>\n",
       "      <td>19.51</td>\n",
       "      <td>0.00</td>\n",
       "      <td>0.5493</td>\n",
       "      <td>0.5687</td>\n",
       "    </tr>\n",
       "    <tr>\n",
       "      <th>3</th>\n",
       "      <td>19.40</td>\n",
       "      <td>19.40</td>\n",
       "      <td>0.00</td>\n",
       "      <td>0.4393</td>\n",
       "      <td>0.4587</td>\n",
       "    </tr>\n",
       "    <tr>\n",
       "      <th>4</th>\n",
       "      <td>18.60</td>\n",
       "      <td>18.62</td>\n",
       "      <td>0.02</td>\n",
       "      <td>-0.3607</td>\n",
       "      <td>-0.3213</td>\n",
       "    </tr>\n",
       "  </tbody>\n",
       "</table>\n",
       "</div>"
      ],
      "text/plain": [
       "      D1     D2  diferenca_D1_D2  desvio_absoluto_D1  desvio_absoluto_D2\n",
       "0  18.50  18.60             0.10             -0.4607             -0.3413\n",
       "1  18.53  18.63             0.10             -0.4307             -0.3113\n",
       "2  19.51  19.51             0.00              0.5493              0.5687\n",
       "3  19.40  19.40             0.00              0.4393              0.4587\n",
       "4  18.60  18.62             0.02             -0.3607             -0.3213"
      ]
     },
     "execution_count": 118,
     "metadata": {},
     "output_type": "execute_result"
    }
   ],
   "source": [
    "df['desvio_absoluto_D1'] = df['D1'] - d_media_D1\n",
    "df['desvio_absoluto_D2'] = df['D2'] - d_media_D2\n",
    "df.head()"
   ]
  },
  {
   "cell_type": "markdown",
   "id": "4e4cff32-5ff5-43fc-b958-70a20963c932",
   "metadata": {},
   "source": [
    "#### Calculando a Incerteza do Desvio padrão absoluto"
   ]
  },
  {
   "cell_type": "markdown",
   "id": "58bcfcbc-9b58-40b8-b16e-47d3ee8fba89",
   "metadata": {},
   "source": [
    "* Colocar a coluna de desvio padrão em módulo para ficar positiva e somar com o método `abs()`"
   ]
  },
  {
   "cell_type": "code",
   "execution_count": 119,
   "id": "e935a95a-f2fd-478d-b04e-6badf8604ee3",
   "metadata": {},
   "outputs": [
    {
     "data": {
      "text/html": [
       "<div>\n",
       "<style scoped>\n",
       "    .dataframe tbody tr th:only-of-type {\n",
       "        vertical-align: middle;\n",
       "    }\n",
       "\n",
       "    .dataframe tbody tr th {\n",
       "        vertical-align: top;\n",
       "    }\n",
       "\n",
       "    .dataframe thead th {\n",
       "        text-align: right;\n",
       "    }\n",
       "</style>\n",
       "<table border=\"1\" class=\"dataframe\">\n",
       "  <thead>\n",
       "    <tr style=\"text-align: right;\">\n",
       "      <th></th>\n",
       "      <th>D1</th>\n",
       "      <th>D2</th>\n",
       "      <th>diferenca_D1_D2</th>\n",
       "      <th>desvio_absoluto_D1</th>\n",
       "      <th>desvio_absoluto_D2</th>\n",
       "      <th>desvio_absoluto_D1_modulo</th>\n",
       "      <th>desvio_absoluto_D2_modulo</th>\n",
       "    </tr>\n",
       "  </thead>\n",
       "  <tbody>\n",
       "    <tr>\n",
       "      <th>0</th>\n",
       "      <td>18.50</td>\n",
       "      <td>18.60</td>\n",
       "      <td>0.10</td>\n",
       "      <td>-0.4607</td>\n",
       "      <td>-0.3413</td>\n",
       "      <td>0.4607</td>\n",
       "      <td>0.3413</td>\n",
       "    </tr>\n",
       "    <tr>\n",
       "      <th>1</th>\n",
       "      <td>18.53</td>\n",
       "      <td>18.63</td>\n",
       "      <td>0.10</td>\n",
       "      <td>-0.4307</td>\n",
       "      <td>-0.3113</td>\n",
       "      <td>0.4307</td>\n",
       "      <td>0.3113</td>\n",
       "    </tr>\n",
       "    <tr>\n",
       "      <th>2</th>\n",
       "      <td>19.51</td>\n",
       "      <td>19.51</td>\n",
       "      <td>0.00</td>\n",
       "      <td>0.5493</td>\n",
       "      <td>0.5687</td>\n",
       "      <td>0.5493</td>\n",
       "      <td>0.5687</td>\n",
       "    </tr>\n",
       "    <tr>\n",
       "      <th>3</th>\n",
       "      <td>19.40</td>\n",
       "      <td>19.40</td>\n",
       "      <td>0.00</td>\n",
       "      <td>0.4393</td>\n",
       "      <td>0.4587</td>\n",
       "      <td>0.4393</td>\n",
       "      <td>0.4587</td>\n",
       "    </tr>\n",
       "    <tr>\n",
       "      <th>4</th>\n",
       "      <td>18.60</td>\n",
       "      <td>18.62</td>\n",
       "      <td>0.02</td>\n",
       "      <td>-0.3607</td>\n",
       "      <td>-0.3213</td>\n",
       "      <td>0.3607</td>\n",
       "      <td>0.3213</td>\n",
       "    </tr>\n",
       "  </tbody>\n",
       "</table>\n",
       "</div>"
      ],
      "text/plain": [
       "      D1     D2  diferenca_D1_D2  desvio_absoluto_D1  desvio_absoluto_D2  \\\n",
       "0  18.50  18.60             0.10             -0.4607             -0.3413   \n",
       "1  18.53  18.63             0.10             -0.4307             -0.3113   \n",
       "2  19.51  19.51             0.00              0.5493              0.5687   \n",
       "3  19.40  19.40             0.00              0.4393              0.4587   \n",
       "4  18.60  18.62             0.02             -0.3607             -0.3213   \n",
       "\n",
       "   desvio_absoluto_D1_modulo  desvio_absoluto_D2_modulo  \n",
       "0                     0.4607                     0.3413  \n",
       "1                     0.4307                     0.3113  \n",
       "2                     0.5493                     0.5687  \n",
       "3                     0.4393                     0.4587  \n",
       "4                     0.3607                     0.3213  "
      ]
     },
     "execution_count": 119,
     "metadata": {},
     "output_type": "execute_result"
    }
   ],
   "source": [
    "df['desvio_absoluto_D1_modulo'] = df['desvio_absoluto_D1'].abs()\n",
    "df['desvio_absoluto_D2_modulo'] = df['desvio_absoluto_D2'].abs()\n",
    "df.head()"
   ]
  },
  {
   "cell_type": "markdown",
   "id": "5242ed58-3c47-4c69-9c1a-abb5b9071fa2",
   "metadata": {},
   "source": [
    "* Calculando a incerteza absoluta:"
   ]
  },
  {
   "cell_type": "code",
   "execution_count": 120,
   "id": "6a04e69d-2122-4365-96a9-cdb5bc514056",
   "metadata": {},
   "outputs": [
    {
     "name": "stdout",
     "output_type": "stream",
     "text": [
      "Incerteza D1: 0.48551400000000017\n",
      "Incerteza D2: 0.4694560000000007\n"
     ]
    }
   ],
   "source": [
    "incerteza_D1 = (1/len(df))*df['desvio_absoluto_D1_modulo'].sum()\n",
    "incerteza_D2 = (1/len(df))*df['desvio_absoluto_D2_modulo'].sum()\n",
    "print(f'Incerteza D1: {incerteza_D1}\\nIncerteza D2: {incerteza_D2}')"
   ]
  },
  {
   "cell_type": "code",
   "execution_count": 121,
   "id": "1e31ec31-4d7b-46a4-b864-2b5df8b47490",
   "metadata": {},
   "outputs": [
    {
     "data": {
      "image/png": "[encoded data removed]",
      "text/plain": [
       "<IPython.core.display.Image object>"
      ]
     },
     "execution_count": 121,
     "metadata": {},
     "output_type": "execute_result"
    }
   ],
   "source": [
    "Image(filename='./pictures/incerteza_1.PNG')"
   ]
  },
  {
   "cell_type": "markdown",
   "id": "b8de7f68-933a-4050-8a14-7e7abc854c0c",
   "metadata": {},
   "source": [
    "* `RESPOSTA:`"
   ]
  },
  {
   "cell_type": "code",
   "execution_count": 122,
   "id": "8f30b6b0-7141-4549-9699-08b6f20d2432",
   "metadata": {},
   "outputs": [
    {
     "name": "stdout",
     "output_type": "stream",
     "text": [
      "Primeira medida: 18.9607 +- 0.4855\n",
      "Segunda medida: 18.9413 +- 0.4695\n"
     ]
    }
   ],
   "source": [
    "print(f'Primeira medida: {round(d_media_D1,4)} +- {round(incerteza_D1,4)}\\nSegunda medida: {round(d_media_D2,4)} +- {round(incerteza_D2,4)}')"
   ]
  },
  {
   "cell_type": "markdown",
   "id": "55b8e343-8159-44ce-b4c0-6aabe4b87388",
   "metadata": {},
   "source": [
    "* Dropando colunas do modulo (desnecessária):"
   ]
  },
  {
   "cell_type": "code",
   "execution_count": 123,
   "id": "59885a11-08a4-4730-bd29-e1278e4999b0",
   "metadata": {},
   "outputs": [
    {
     "data": {
      "text/html": [
       "<div>\n",
       "<style scoped>\n",
       "    .dataframe tbody tr th:only-of-type {\n",
       "        vertical-align: middle;\n",
       "    }\n",
       "\n",
       "    .dataframe tbody tr th {\n",
       "        vertical-align: top;\n",
       "    }\n",
       "\n",
       "    .dataframe thead th {\n",
       "        text-align: right;\n",
       "    }\n",
       "</style>\n",
       "<table border=\"1\" class=\"dataframe\">\n",
       "  <thead>\n",
       "    <tr style=\"text-align: right;\">\n",
       "      <th></th>\n",
       "      <th>D1</th>\n",
       "      <th>D2</th>\n",
       "      <th>diferenca_D1_D2</th>\n",
       "      <th>desvio_absoluto_D1</th>\n",
       "      <th>desvio_absoluto_D2</th>\n",
       "    </tr>\n",
       "  </thead>\n",
       "  <tbody>\n",
       "    <tr>\n",
       "      <th>0</th>\n",
       "      <td>18.50</td>\n",
       "      <td>18.60</td>\n",
       "      <td>0.10</td>\n",
       "      <td>-0.4607</td>\n",
       "      <td>-0.3413</td>\n",
       "    </tr>\n",
       "    <tr>\n",
       "      <th>1</th>\n",
       "      <td>18.53</td>\n",
       "      <td>18.63</td>\n",
       "      <td>0.10</td>\n",
       "      <td>-0.4307</td>\n",
       "      <td>-0.3113</td>\n",
       "    </tr>\n",
       "    <tr>\n",
       "      <th>2</th>\n",
       "      <td>19.51</td>\n",
       "      <td>19.51</td>\n",
       "      <td>0.00</td>\n",
       "      <td>0.5493</td>\n",
       "      <td>0.5687</td>\n",
       "    </tr>\n",
       "    <tr>\n",
       "      <th>3</th>\n",
       "      <td>19.40</td>\n",
       "      <td>19.40</td>\n",
       "      <td>0.00</td>\n",
       "      <td>0.4393</td>\n",
       "      <td>0.4587</td>\n",
       "    </tr>\n",
       "    <tr>\n",
       "      <th>4</th>\n",
       "      <td>18.60</td>\n",
       "      <td>18.62</td>\n",
       "      <td>0.02</td>\n",
       "      <td>-0.3607</td>\n",
       "      <td>-0.3213</td>\n",
       "    </tr>\n",
       "  </tbody>\n",
       "</table>\n",
       "</div>"
      ],
      "text/plain": [
       "      D1     D2  diferenca_D1_D2  desvio_absoluto_D1  desvio_absoluto_D2\n",
       "0  18.50  18.60             0.10             -0.4607             -0.3413\n",
       "1  18.53  18.63             0.10             -0.4307             -0.3113\n",
       "2  19.51  19.51             0.00              0.5493              0.5687\n",
       "3  19.40  19.40             0.00              0.4393              0.4587\n",
       "4  18.60  18.62             0.02             -0.3607             -0.3213"
      ]
     },
     "execution_count": 123,
     "metadata": {},
     "output_type": "execute_result"
    }
   ],
   "source": [
    "df = df.drop(columns=['desvio_absoluto_D1_modulo', 'desvio_absoluto_D2_modulo'], axis=1)\n",
    "df.head()"
   ]
  },
  {
   "cell_type": "markdown",
   "id": "fc726268-89db-4678-af28-5e6ba2fa8bae",
   "metadata": {},
   "source": [
    "## Coluna: Desvio Médio"
   ]
  },
  {
   "cell_type": "code",
   "execution_count": 124,
   "id": "afe52c77-4097-4c24-87b6-e30c741f6ea4",
   "metadata": {},
   "outputs": [
    {
     "data": {
      "image/png": "[encoded data removed]",
      "text/plain": [
       "<IPython.core.display.Image object>"
      ]
     },
     "execution_count": 124,
     "metadata": {},
     "output_type": "execute_result"
    }
   ],
   "source": [
    "Image(filename='./pictures/desvio_medio.PNG')"
   ]
  },
  {
   "cell_type": "markdown",
   "id": "8d04cc9b-b827-475f-bfe0-6584d5d65bc6",
   "metadata": {},
   "source": [
    "#### Calculo do desvio médio:"
   ]
  },
  {
   "cell_type": "code",
   "execution_count": 125,
   "id": "a5c8891b-2a94-45ff-b761-29997c3d09fc",
   "metadata": {},
   "outputs": [
    {
     "data": {
      "image/png": "[encoded data removed]",
      "text/plain": [
       "<IPython.core.display.Image object>"
      ]
     },
     "execution_count": 125,
     "metadata": {},
     "output_type": "execute_result"
    }
   ],
   "source": [
    "Image(filename='./pictures/desvio.PNG')"
   ]
  },
  {
   "cell_type": "markdown",
   "id": "0f45f08d-1429-4fe5-a2ed-6c0ca82d17d7",
   "metadata": {},
   "source": [
    "* Elevar ao quadrado;\n",
    "* Aqui os números negativos ficam positivos, isto é necessário para a fórmula por conta da raiz."
   ]
  },
  {
   "cell_type": "code",
   "execution_count": 126,
   "id": "c328b584-9501-426a-ace0-c78ebf006f0b",
   "metadata": {},
   "outputs": [
    {
     "data": {
      "text/html": [
       "<div>\n",
       "<style scoped>\n",
       "    .dataframe tbody tr th:only-of-type {\n",
       "        vertical-align: middle;\n",
       "    }\n",
       "\n",
       "    .dataframe tbody tr th {\n",
       "        vertical-align: top;\n",
       "    }\n",
       "\n",
       "    .dataframe thead th {\n",
       "        text-align: right;\n",
       "    }\n",
       "</style>\n",
       "<table border=\"1\" class=\"dataframe\">\n",
       "  <thead>\n",
       "    <tr style=\"text-align: right;\">\n",
       "      <th></th>\n",
       "      <th>D1</th>\n",
       "      <th>D2</th>\n",
       "      <th>diferenca_D1_D2</th>\n",
       "      <th>desvio_absoluto_D1</th>\n",
       "      <th>desvio_absoluto_D2</th>\n",
       "      <th>desvio_absoluto_D1_quadrado</th>\n",
       "      <th>desvio_absoluto_D2_quadrado</th>\n",
       "    </tr>\n",
       "  </thead>\n",
       "  <tbody>\n",
       "    <tr>\n",
       "      <th>0</th>\n",
       "      <td>18.50</td>\n",
       "      <td>18.60</td>\n",
       "      <td>0.10</td>\n",
       "      <td>-0.4607</td>\n",
       "      <td>-0.3413</td>\n",
       "      <td>0.212244</td>\n",
       "      <td>0.116486</td>\n",
       "    </tr>\n",
       "    <tr>\n",
       "      <th>1</th>\n",
       "      <td>18.53</td>\n",
       "      <td>18.63</td>\n",
       "      <td>0.10</td>\n",
       "      <td>-0.4307</td>\n",
       "      <td>-0.3113</td>\n",
       "      <td>0.185502</td>\n",
       "      <td>0.096908</td>\n",
       "    </tr>\n",
       "    <tr>\n",
       "      <th>2</th>\n",
       "      <td>19.51</td>\n",
       "      <td>19.51</td>\n",
       "      <td>0.00</td>\n",
       "      <td>0.5493</td>\n",
       "      <td>0.5687</td>\n",
       "      <td>0.301730</td>\n",
       "      <td>0.323420</td>\n",
       "    </tr>\n",
       "    <tr>\n",
       "      <th>3</th>\n",
       "      <td>19.40</td>\n",
       "      <td>19.40</td>\n",
       "      <td>0.00</td>\n",
       "      <td>0.4393</td>\n",
       "      <td>0.4587</td>\n",
       "      <td>0.192984</td>\n",
       "      <td>0.210406</td>\n",
       "    </tr>\n",
       "    <tr>\n",
       "      <th>4</th>\n",
       "      <td>18.60</td>\n",
       "      <td>18.62</td>\n",
       "      <td>0.02</td>\n",
       "      <td>-0.3607</td>\n",
       "      <td>-0.3213</td>\n",
       "      <td>0.130104</td>\n",
       "      <td>0.103234</td>\n",
       "    </tr>\n",
       "  </tbody>\n",
       "</table>\n",
       "</div>"
      ],
      "text/plain": [
       "      D1     D2  diferenca_D1_D2  desvio_absoluto_D1  desvio_absoluto_D2  \\\n",
       "0  18.50  18.60             0.10             -0.4607             -0.3413   \n",
       "1  18.53  18.63             0.10             -0.4307             -0.3113   \n",
       "2  19.51  19.51             0.00              0.5493              0.5687   \n",
       "3  19.40  19.40             0.00              0.4393              0.4587   \n",
       "4  18.60  18.62             0.02             -0.3607             -0.3213   \n",
       "\n",
       "   desvio_absoluto_D1_quadrado  desvio_absoluto_D2_quadrado  \n",
       "0                     0.212244                     0.116486  \n",
       "1                     0.185502                     0.096908  \n",
       "2                     0.301730                     0.323420  \n",
       "3                     0.192984                     0.210406  \n",
       "4                     0.130104                     0.103234  "
      ]
     },
     "execution_count": 126,
     "metadata": {},
     "output_type": "execute_result"
    }
   ],
   "source": [
    "df['desvio_absoluto_D1_quadrado'] = df['desvio_absoluto_D1']**2\n",
    "df['desvio_absoluto_D2_quadrado'] = df['desvio_absoluto_D2']**2\n",
    "df.head()"
   ]
  },
  {
   "cell_type": "markdown",
   "id": "fd051828-8688-402e-814c-161814630291",
   "metadata": {},
   "source": [
    "* Dividir pelo tamanho do df (100), já que temos mais de 20 linhas."
   ]
  },
  {
   "cell_type": "code",
   "execution_count": 127,
   "id": "899fb4d5-e861-4291-9757-25f258441eeb",
   "metadata": {},
   "outputs": [
    {
     "data": {
      "text/html": [
       "<div>\n",
       "<style scoped>\n",
       "    .dataframe tbody tr th:only-of-type {\n",
       "        vertical-align: middle;\n",
       "    }\n",
       "\n",
       "    .dataframe tbody tr th {\n",
       "        vertical-align: top;\n",
       "    }\n",
       "\n",
       "    .dataframe thead th {\n",
       "        text-align: right;\n",
       "    }\n",
       "</style>\n",
       "<table border=\"1\" class=\"dataframe\">\n",
       "  <thead>\n",
       "    <tr style=\"text-align: right;\">\n",
       "      <th></th>\n",
       "      <th>D1</th>\n",
       "      <th>D2</th>\n",
       "      <th>diferenca_D1_D2</th>\n",
       "      <th>desvio_absoluto_D1</th>\n",
       "      <th>desvio_absoluto_D2</th>\n",
       "      <th>desvio_absoluto_D1_quadrado</th>\n",
       "      <th>desvio_absoluto_D2_quadrado</th>\n",
       "    </tr>\n",
       "  </thead>\n",
       "  <tbody>\n",
       "    <tr>\n",
       "      <th>0</th>\n",
       "      <td>18.50</td>\n",
       "      <td>18.60</td>\n",
       "      <td>0.10</td>\n",
       "      <td>-0.4607</td>\n",
       "      <td>-0.3413</td>\n",
       "      <td>0.002122</td>\n",
       "      <td>0.001165</td>\n",
       "    </tr>\n",
       "    <tr>\n",
       "      <th>1</th>\n",
       "      <td>18.53</td>\n",
       "      <td>18.63</td>\n",
       "      <td>0.10</td>\n",
       "      <td>-0.4307</td>\n",
       "      <td>-0.3113</td>\n",
       "      <td>0.001855</td>\n",
       "      <td>0.000969</td>\n",
       "    </tr>\n",
       "    <tr>\n",
       "      <th>2</th>\n",
       "      <td>19.51</td>\n",
       "      <td>19.51</td>\n",
       "      <td>0.00</td>\n",
       "      <td>0.5493</td>\n",
       "      <td>0.5687</td>\n",
       "      <td>0.003017</td>\n",
       "      <td>0.003234</td>\n",
       "    </tr>\n",
       "    <tr>\n",
       "      <th>3</th>\n",
       "      <td>19.40</td>\n",
       "      <td>19.40</td>\n",
       "      <td>0.00</td>\n",
       "      <td>0.4393</td>\n",
       "      <td>0.4587</td>\n",
       "      <td>0.001930</td>\n",
       "      <td>0.002104</td>\n",
       "    </tr>\n",
       "    <tr>\n",
       "      <th>4</th>\n",
       "      <td>18.60</td>\n",
       "      <td>18.62</td>\n",
       "      <td>0.02</td>\n",
       "      <td>-0.3607</td>\n",
       "      <td>-0.3213</td>\n",
       "      <td>0.001301</td>\n",
       "      <td>0.001032</td>\n",
       "    </tr>\n",
       "  </tbody>\n",
       "</table>\n",
       "</div>"
      ],
      "text/plain": [
       "      D1     D2  diferenca_D1_D2  desvio_absoluto_D1  desvio_absoluto_D2  \\\n",
       "0  18.50  18.60             0.10             -0.4607             -0.3413   \n",
       "1  18.53  18.63             0.10             -0.4307             -0.3113   \n",
       "2  19.51  19.51             0.00              0.5493              0.5687   \n",
       "3  19.40  19.40             0.00              0.4393              0.4587   \n",
       "4  18.60  18.62             0.02             -0.3607             -0.3213   \n",
       "\n",
       "   desvio_absoluto_D1_quadrado  desvio_absoluto_D2_quadrado  \n",
       "0                     0.002122                     0.001165  \n",
       "1                     0.001855                     0.000969  \n",
       "2                     0.003017                     0.003234  \n",
       "3                     0.001930                     0.002104  \n",
       "4                     0.001301                     0.001032  "
      ]
     },
     "execution_count": 127,
     "metadata": {},
     "output_type": "execute_result"
    }
   ],
   "source": [
    "df['desvio_absoluto_D1_quadrado'] = df['desvio_absoluto_D1_quadrado']/(len(df))\n",
    "df['desvio_absoluto_D2_quadrado'] = df['desvio_absoluto_D2_quadrado']/(len(df))\n",
    "df.head()"
   ]
  },
  {
   "cell_type": "markdown",
   "id": "331f6d23-4030-4714-bcb8-dcf07a02017e",
   "metadata": {},
   "source": [
    "* Raiz quadrada da soma:"
   ]
  },
  {
   "cell_type": "code",
   "execution_count": 128,
   "id": "b9e6dc64-cc42-442e-a31f-7cc9ac6b987e",
   "metadata": {},
   "outputs": [
    {
     "name": "stdout",
     "output_type": "stream",
     "text": [
      "Desvio Médio D1: 0.5645020017679301\n",
      "Desvio Médio D2: 0.5600886626240528\n"
     ]
    }
   ],
   "source": [
    "desvio_medio_D1 = math.sqrt(df['desvio_absoluto_D1_quadrado'].sum())\n",
    "desvio_medio_D2 = math.sqrt(df['desvio_absoluto_D2_quadrado'].sum())\n",
    "\n",
    "print(f'Desvio Médio D1: {desvio_medio_D1}\\nDesvio Médio D2: {desvio_medio_D2}')"
   ]
  },
  {
   "cell_type": "markdown",
   "id": "c2c4f874-ec24-40fd-81ae-7b94a6917ab9",
   "metadata": {},
   "source": [
    "#### Cálculo desvio linha:"
   ]
  },
  {
   "cell_type": "code",
   "execution_count": 129,
   "id": "5d5f2a6a-3bf5-4a9d-91ff-5919bd5760d7",
   "metadata": {},
   "outputs": [
    {
     "data": {
      "image/png": "[encoded data removed]",
      "text/plain": [
       "<IPython.core.display.Image object>"
      ]
     },
     "execution_count": 129,
     "metadata": {},
     "output_type": "execute_result"
    }
   ],
   "source": [
    "Image(filename='./pictures/desv_med_1.PNG')"
   ]
  },
  {
   "cell_type": "markdown",
   "id": "d089b59f-4548-4aaa-83e7-ce683f85de23",
   "metadata": {},
   "source": [
    "`RESPOSTA:`"
   ]
  },
  {
   "cell_type": "code",
   "execution_count": 130,
   "id": "25b71cdf-7a3e-4640-ba8e-d05ee6746dfe",
   "metadata": {},
   "outputs": [
    {
     "name": "stdout",
     "output_type": "stream",
     "text": [
      "Desvio linha D1: 0.05645020017679301\n",
      "Desvio linha D1: 0.056008866262405275\n"
     ]
    }
   ],
   "source": [
    "desvio_linha_D1 = (desvio_medio_D1/(math.sqrt(len(df))))\n",
    "desvio_linha_D2 = (desvio_medio_D2/(math.sqrt(len(df))))\n",
    "print(f'Desvio linha D1: {desvio_linha_D1}\\nDesvio linha D1: {desvio_linha_D2}')"
   ]
  },
  {
   "cell_type": "markdown",
   "id": "20fa0feb-e329-4d13-8b60-c65869bd770f",
   "metadata": {},
   "source": [
    "* Dropando colunas desvio_absoluto_dx_quadrado (desnecessárias)."
   ]
  },
  {
   "cell_type": "code",
   "execution_count": 131,
   "id": "3c708b72-48d0-4fbd-bb76-9737ffccc08d",
   "metadata": {},
   "outputs": [
    {
     "data": {
      "text/html": [
       "<div>\n",
       "<style scoped>\n",
       "    .dataframe tbody tr th:only-of-type {\n",
       "        vertical-align: middle;\n",
       "    }\n",
       "\n",
       "    .dataframe tbody tr th {\n",
       "        vertical-align: top;\n",
       "    }\n",
       "\n",
       "    .dataframe thead th {\n",
       "        text-align: right;\n",
       "    }\n",
       "</style>\n",
       "<table border=\"1\" class=\"dataframe\">\n",
       "  <thead>\n",
       "    <tr style=\"text-align: right;\">\n",
       "      <th></th>\n",
       "      <th>D1</th>\n",
       "      <th>D2</th>\n",
       "      <th>diferenca_D1_D2</th>\n",
       "      <th>desvio_absoluto_D1</th>\n",
       "      <th>desvio_absoluto_D2</th>\n",
       "    </tr>\n",
       "  </thead>\n",
       "  <tbody>\n",
       "    <tr>\n",
       "      <th>0</th>\n",
       "      <td>18.50</td>\n",
       "      <td>18.60</td>\n",
       "      <td>0.10</td>\n",
       "      <td>-0.4607</td>\n",
       "      <td>-0.3413</td>\n",
       "    </tr>\n",
       "    <tr>\n",
       "      <th>1</th>\n",
       "      <td>18.53</td>\n",
       "      <td>18.63</td>\n",
       "      <td>0.10</td>\n",
       "      <td>-0.4307</td>\n",
       "      <td>-0.3113</td>\n",
       "    </tr>\n",
       "    <tr>\n",
       "      <th>2</th>\n",
       "      <td>19.51</td>\n",
       "      <td>19.51</td>\n",
       "      <td>0.00</td>\n",
       "      <td>0.5493</td>\n",
       "      <td>0.5687</td>\n",
       "    </tr>\n",
       "    <tr>\n",
       "      <th>3</th>\n",
       "      <td>19.40</td>\n",
       "      <td>19.40</td>\n",
       "      <td>0.00</td>\n",
       "      <td>0.4393</td>\n",
       "      <td>0.4587</td>\n",
       "    </tr>\n",
       "    <tr>\n",
       "      <th>4</th>\n",
       "      <td>18.60</td>\n",
       "      <td>18.62</td>\n",
       "      <td>0.02</td>\n",
       "      <td>-0.3607</td>\n",
       "      <td>-0.3213</td>\n",
       "    </tr>\n",
       "  </tbody>\n",
       "</table>\n",
       "</div>"
      ],
      "text/plain": [
       "      D1     D2  diferenca_D1_D2  desvio_absoluto_D1  desvio_absoluto_D2\n",
       "0  18.50  18.60             0.10             -0.4607             -0.3413\n",
       "1  18.53  18.63             0.10             -0.4307             -0.3113\n",
       "2  19.51  19.51             0.00              0.5493              0.5687\n",
       "3  19.40  19.40             0.00              0.4393              0.4587\n",
       "4  18.60  18.62             0.02             -0.3607             -0.3213"
      ]
     },
     "execution_count": 131,
     "metadata": {},
     "output_type": "execute_result"
    }
   ],
   "source": [
    "df = df.drop(columns=['desvio_absoluto_D1_quadrado', 'desvio_absoluto_D2_quadrado'])\n",
    "df.head()"
   ]
  },
  {
   "cell_type": "markdown",
   "id": "07f66ba3-c455-40be-a28f-a64048b8443f",
   "metadata": {},
   "source": [
    "## Volume"
   ]
  },
  {
   "cell_type": "markdown",
   "id": "3e2d89e0-4429-465a-85d3-676e12cdd3ac",
   "metadata": {},
   "source": [
    "#### Cálculo do Volume"
   ]
  },
  {
   "cell_type": "markdown",
   "id": "89c05afb-edb3-4577-a173-f365dd571d8c",
   "metadata": {},
   "source": [
    "`Fórmula:` V = 4/3 π r³: \n",
    "\n",
    "* V = volume;\n",
    "* r = raio."
   ]
  },
  {
   "cell_type": "code",
   "execution_count": 132,
   "id": "353a9f11-2dae-49a3-8315-d9cc69c55744",
   "metadata": {},
   "outputs": [
    {
     "data": {
      "text/html": [
       "<div>\n",
       "<style scoped>\n",
       "    .dataframe tbody tr th:only-of-type {\n",
       "        vertical-align: middle;\n",
       "    }\n",
       "\n",
       "    .dataframe tbody tr th {\n",
       "        vertical-align: top;\n",
       "    }\n",
       "\n",
       "    .dataframe thead th {\n",
       "        text-align: right;\n",
       "    }\n",
       "</style>\n",
       "<table border=\"1\" class=\"dataframe\">\n",
       "  <thead>\n",
       "    <tr style=\"text-align: right;\">\n",
       "      <th></th>\n",
       "      <th>D1</th>\n",
       "      <th>D2</th>\n",
       "      <th>diferenca_D1_D2</th>\n",
       "      <th>desvio_absoluto_D1</th>\n",
       "      <th>desvio_absoluto_D2</th>\n",
       "    </tr>\n",
       "  </thead>\n",
       "  <tbody>\n",
       "    <tr>\n",
       "      <th>0</th>\n",
       "      <td>18.50</td>\n",
       "      <td>18.60</td>\n",
       "      <td>0.10</td>\n",
       "      <td>-0.4607</td>\n",
       "      <td>-0.3413</td>\n",
       "    </tr>\n",
       "    <tr>\n",
       "      <th>1</th>\n",
       "      <td>18.53</td>\n",
       "      <td>18.63</td>\n",
       "      <td>0.10</td>\n",
       "      <td>-0.4307</td>\n",
       "      <td>-0.3113</td>\n",
       "    </tr>\n",
       "    <tr>\n",
       "      <th>2</th>\n",
       "      <td>19.51</td>\n",
       "      <td>19.51</td>\n",
       "      <td>0.00</td>\n",
       "      <td>0.5493</td>\n",
       "      <td>0.5687</td>\n",
       "    </tr>\n",
       "    <tr>\n",
       "      <th>3</th>\n",
       "      <td>19.40</td>\n",
       "      <td>19.40</td>\n",
       "      <td>0.00</td>\n",
       "      <td>0.4393</td>\n",
       "      <td>0.4587</td>\n",
       "    </tr>\n",
       "    <tr>\n",
       "      <th>4</th>\n",
       "      <td>18.60</td>\n",
       "      <td>18.62</td>\n",
       "      <td>0.02</td>\n",
       "      <td>-0.3607</td>\n",
       "      <td>-0.3213</td>\n",
       "    </tr>\n",
       "  </tbody>\n",
       "</table>\n",
       "</div>"
      ],
      "text/plain": [
       "      D1     D2  diferenca_D1_D2  desvio_absoluto_D1  desvio_absoluto_D2\n",
       "0  18.50  18.60             0.10             -0.4607             -0.3413\n",
       "1  18.53  18.63             0.10             -0.4307             -0.3113\n",
       "2  19.51  19.51             0.00              0.5493              0.5687\n",
       "3  19.40  19.40             0.00              0.4393              0.4587\n",
       "4  18.60  18.62             0.02             -0.3607             -0.3213"
      ]
     },
     "execution_count": 132,
     "metadata": {},
     "output_type": "execute_result"
    }
   ],
   "source": [
    "df.head()"
   ]
  },
  {
   "cell_type": "code",
   "execution_count": 133,
   "id": "024bd9f6-5ba5-4254-a17e-3b2f96603414",
   "metadata": {},
   "outputs": [
    {
     "data": {
      "text/html": [
       "<div>\n",
       "<style scoped>\n",
       "    .dataframe tbody tr th:only-of-type {\n",
       "        vertical-align: middle;\n",
       "    }\n",
       "\n",
       "    .dataframe tbody tr th {\n",
       "        vertical-align: top;\n",
       "    }\n",
       "\n",
       "    .dataframe thead th {\n",
       "        text-align: right;\n",
       "    }\n",
       "</style>\n",
       "<table border=\"1\" class=\"dataframe\">\n",
       "  <thead>\n",
       "    <tr style=\"text-align: right;\">\n",
       "      <th></th>\n",
       "      <th>D1</th>\n",
       "      <th>D2</th>\n",
       "      <th>diferenca_D1_D2</th>\n",
       "      <th>desvio_absoluto_D1</th>\n",
       "      <th>desvio_absoluto_D2</th>\n",
       "      <th>volume_V1</th>\n",
       "      <th>volume_V2</th>\n",
       "    </tr>\n",
       "  </thead>\n",
       "  <tbody>\n",
       "    <tr>\n",
       "      <th>0</th>\n",
       "      <td>18.50</td>\n",
       "      <td>18.60</td>\n",
       "      <td>0.10</td>\n",
       "      <td>-0.4607</td>\n",
       "      <td>-0.3413</td>\n",
       "      <td>3315.231098</td>\n",
       "      <td>3369.282723</td>\n",
       "    </tr>\n",
       "    <tr>\n",
       "      <th>1</th>\n",
       "      <td>18.53</td>\n",
       "      <td>18.63</td>\n",
       "      <td>0.10</td>\n",
       "      <td>-0.4307</td>\n",
       "      <td>-0.3113</td>\n",
       "      <td>3331.385417</td>\n",
       "      <td>3385.612013</td>\n",
       "    </tr>\n",
       "    <tr>\n",
       "      <th>2</th>\n",
       "      <td>19.51</td>\n",
       "      <td>19.51</td>\n",
       "      <td>0.00</td>\n",
       "      <td>0.5493</td>\n",
       "      <td>0.5687</td>\n",
       "      <td>3888.395488</td>\n",
       "      <td>3888.395488</td>\n",
       "    </tr>\n",
       "    <tr>\n",
       "      <th>3</th>\n",
       "      <td>19.40</td>\n",
       "      <td>19.40</td>\n",
       "      <td>0.00</td>\n",
       "      <td>0.4393</td>\n",
       "      <td>0.4587</td>\n",
       "      <td>3822.995723</td>\n",
       "      <td>3822.995723</td>\n",
       "    </tr>\n",
       "    <tr>\n",
       "      <th>4</th>\n",
       "      <td>18.60</td>\n",
       "      <td>18.62</td>\n",
       "      <td>0.02</td>\n",
       "      <td>-0.3607</td>\n",
       "      <td>-0.3213</td>\n",
       "      <td>3369.282723</td>\n",
       "      <td>3380.163068</td>\n",
       "    </tr>\n",
       "  </tbody>\n",
       "</table>\n",
       "</div>"
      ],
      "text/plain": [
       "      D1     D2  diferenca_D1_D2  desvio_absoluto_D1  desvio_absoluto_D2  \\\n",
       "0  18.50  18.60             0.10             -0.4607             -0.3413   \n",
       "1  18.53  18.63             0.10             -0.4307             -0.3113   \n",
       "2  19.51  19.51             0.00              0.5493              0.5687   \n",
       "3  19.40  19.40             0.00              0.4393              0.4587   \n",
       "4  18.60  18.62             0.02             -0.3607             -0.3213   \n",
       "\n",
       "     volume_V1    volume_V2  \n",
       "0  3315.231098  3369.282723  \n",
       "1  3331.385417  3385.612013  \n",
       "2  3888.395488  3888.395488  \n",
       "3  3822.995723  3822.995723  \n",
       "4  3369.282723  3380.163068  "
      ]
     },
     "execution_count": 133,
     "metadata": {},
     "output_type": "execute_result"
    }
   ],
   "source": [
    "df['volume_V1'] = ((4/3)*math.pi)*((df['D1']/2)**3)\n",
    "df['volume_V2'] = ((4/3)*math.pi)*((df['D2']/2)**3)\n",
    "df.head()"
   ]
  },
  {
   "cell_type": "markdown",
   "id": "830cc05e-8779-4ada-b4e2-59641fea2217",
   "metadata": {},
   "source": [
    "#### Cálculo diferença entre volume D1 e D2"
   ]
  },
  {
   "cell_type": "code",
   "execution_count": 134,
   "id": "5a92e82e-d2f5-451d-b1b1-47842a1a8161",
   "metadata": {},
   "outputs": [
    {
     "data": {
      "text/html": [
       "<div>\n",
       "<style scoped>\n",
       "    .dataframe tbody tr th:only-of-type {\n",
       "        vertical-align: middle;\n",
       "    }\n",
       "\n",
       "    .dataframe tbody tr th {\n",
       "        vertical-align: top;\n",
       "    }\n",
       "\n",
       "    .dataframe thead th {\n",
       "        text-align: right;\n",
       "    }\n",
       "</style>\n",
       "<table border=\"1\" class=\"dataframe\">\n",
       "  <thead>\n",
       "    <tr style=\"text-align: right;\">\n",
       "      <th></th>\n",
       "      <th>D1</th>\n",
       "      <th>D2</th>\n",
       "      <th>diferenca_D1_D2</th>\n",
       "      <th>desvio_absoluto_D1</th>\n",
       "      <th>desvio_absoluto_D2</th>\n",
       "      <th>volume_V1</th>\n",
       "      <th>volume_V2</th>\n",
       "      <th>diferença_V1_V2</th>\n",
       "    </tr>\n",
       "  </thead>\n",
       "  <tbody>\n",
       "    <tr>\n",
       "      <th>0</th>\n",
       "      <td>18.50</td>\n",
       "      <td>18.60</td>\n",
       "      <td>0.10</td>\n",
       "      <td>-0.4607</td>\n",
       "      <td>-0.3413</td>\n",
       "      <td>3315.231098</td>\n",
       "      <td>3369.282723</td>\n",
       "      <td>54.051625</td>\n",
       "    </tr>\n",
       "    <tr>\n",
       "      <th>1</th>\n",
       "      <td>18.53</td>\n",
       "      <td>18.63</td>\n",
       "      <td>0.10</td>\n",
       "      <td>-0.4307</td>\n",
       "      <td>-0.3113</td>\n",
       "      <td>3331.385417</td>\n",
       "      <td>3385.612013</td>\n",
       "      <td>54.226596</td>\n",
       "    </tr>\n",
       "    <tr>\n",
       "      <th>2</th>\n",
       "      <td>19.51</td>\n",
       "      <td>19.51</td>\n",
       "      <td>0.00</td>\n",
       "      <td>0.5493</td>\n",
       "      <td>0.5687</td>\n",
       "      <td>3888.395488</td>\n",
       "      <td>3888.395488</td>\n",
       "      <td>0.000000</td>\n",
       "    </tr>\n",
       "    <tr>\n",
       "      <th>3</th>\n",
       "      <td>19.40</td>\n",
       "      <td>19.40</td>\n",
       "      <td>0.00</td>\n",
       "      <td>0.4393</td>\n",
       "      <td>0.4587</td>\n",
       "      <td>3822.995723</td>\n",
       "      <td>3822.995723</td>\n",
       "      <td>0.000000</td>\n",
       "    </tr>\n",
       "    <tr>\n",
       "      <th>4</th>\n",
       "      <td>18.60</td>\n",
       "      <td>18.62</td>\n",
       "      <td>0.02</td>\n",
       "      <td>-0.3607</td>\n",
       "      <td>-0.3213</td>\n",
       "      <td>3369.282723</td>\n",
       "      <td>3380.163068</td>\n",
       "      <td>10.880345</td>\n",
       "    </tr>\n",
       "  </tbody>\n",
       "</table>\n",
       "</div>"
      ],
      "text/plain": [
       "      D1     D2  diferenca_D1_D2  desvio_absoluto_D1  desvio_absoluto_D2  \\\n",
       "0  18.50  18.60             0.10             -0.4607             -0.3413   \n",
       "1  18.53  18.63             0.10             -0.4307             -0.3113   \n",
       "2  19.51  19.51             0.00              0.5493              0.5687   \n",
       "3  19.40  19.40             0.00              0.4393              0.4587   \n",
       "4  18.60  18.62             0.02             -0.3607             -0.3213   \n",
       "\n",
       "     volume_V1    volume_V2  diferença_V1_V2  \n",
       "0  3315.231098  3369.282723        54.051625  \n",
       "1  3331.385417  3385.612013        54.226596  \n",
       "2  3888.395488  3888.395488         0.000000  \n",
       "3  3822.995723  3822.995723         0.000000  \n",
       "4  3369.282723  3380.163068        10.880345  "
      ]
     },
     "execution_count": 134,
     "metadata": {},
     "output_type": "execute_result"
    }
   ],
   "source": [
    "df['diferença_V1_V2'] = df['volume_V2']-df['volume_V1']\n",
    "df.head()"
   ]
  },
  {
   "cell_type": "markdown",
   "id": "95cb7dd7-8155-445e-82ab-f6563ab7a95b",
   "metadata": {},
   "source": [
    "#### Volume \"v\" Media"
   ]
  },
  {
   "cell_type": "code",
   "execution_count": 137,
   "id": "59763e1b-6a48-4700-ad7f-64f40c450d4e",
   "metadata": {},
   "outputs": [],
   "source": [
    "v_media_D1 = ((1/len(df))*(df['volume_V1'].sum()))\n",
    "v_media_D2 = ((1/len(df))*(df['volume_V2'].sum()))"
   ]
  },
  {
   "cell_type": "code",
   "execution_count": 138,
   "id": "42cc00af-c603-4efc-a8d1-1d80b7f89be5",
   "metadata": {},
   "outputs": [
    {
     "name": "stdout",
     "output_type": "stream",
     "text": [
      "V_media_1: 3578.621395673363, V_media_2: 3567.5250897254737\n"
     ]
    }
   ],
   "source": [
    "print(f'V_media_1: {v_media_D1}, V_media_2: {v_media_D2}')"
   ]
  },
  {
   "cell_type": "markdown",
   "id": "cfbb0d5c-14ad-44f2-8926-3acc3c38dd14",
   "metadata": {},
   "source": [
    "#### Volume desvio absoluto"
   ]
  },
  {
   "cell_type": "code",
   "execution_count": 139,
   "id": "7f09cab5-3fe7-4eda-bec7-065f830b3d0f",
   "metadata": {},
   "outputs": [
    {
     "data": {
      "text/html": [
       "<div>\n",
       "<style scoped>\n",
       "    .dataframe tbody tr th:only-of-type {\n",
       "        vertical-align: middle;\n",
       "    }\n",
       "\n",
       "    .dataframe tbody tr th {\n",
       "        vertical-align: top;\n",
       "    }\n",
       "\n",
       "    .dataframe thead th {\n",
       "        text-align: right;\n",
       "    }\n",
       "</style>\n",
       "<table border=\"1\" class=\"dataframe\">\n",
       "  <thead>\n",
       "    <tr style=\"text-align: right;\">\n",
       "      <th></th>\n",
       "      <th>D1</th>\n",
       "      <th>D2</th>\n",
       "      <th>diferenca_D1_D2</th>\n",
       "      <th>desvio_absoluto_D1</th>\n",
       "      <th>desvio_absoluto_D2</th>\n",
       "      <th>volume_V1</th>\n",
       "      <th>volume_V2</th>\n",
       "      <th>diferença_V1_V2</th>\n",
       "      <th>desvio_absoluto_V1</th>\n",
       "      <th>desvio_absoluto_V2</th>\n",
       "    </tr>\n",
       "  </thead>\n",
       "  <tbody>\n",
       "    <tr>\n",
       "      <th>0</th>\n",
       "      <td>18.50</td>\n",
       "      <td>18.60</td>\n",
       "      <td>0.10</td>\n",
       "      <td>-0.4607</td>\n",
       "      <td>-0.3413</td>\n",
       "      <td>3315.231098</td>\n",
       "      <td>3369.282723</td>\n",
       "      <td>54.051625</td>\n",
       "      <td>-263.390298</td>\n",
       "      <td>-198.242367</td>\n",
       "    </tr>\n",
       "    <tr>\n",
       "      <th>1</th>\n",
       "      <td>18.53</td>\n",
       "      <td>18.63</td>\n",
       "      <td>0.10</td>\n",
       "      <td>-0.4307</td>\n",
       "      <td>-0.3113</td>\n",
       "      <td>3331.385417</td>\n",
       "      <td>3385.612013</td>\n",
       "      <td>54.226596</td>\n",
       "      <td>-247.235979</td>\n",
       "      <td>-181.913077</td>\n",
       "    </tr>\n",
       "    <tr>\n",
       "      <th>2</th>\n",
       "      <td>19.51</td>\n",
       "      <td>19.51</td>\n",
       "      <td>0.00</td>\n",
       "      <td>0.5493</td>\n",
       "      <td>0.5687</td>\n",
       "      <td>3888.395488</td>\n",
       "      <td>3888.395488</td>\n",
       "      <td>0.000000</td>\n",
       "      <td>309.774092</td>\n",
       "      <td>320.870398</td>\n",
       "    </tr>\n",
       "    <tr>\n",
       "      <th>3</th>\n",
       "      <td>19.40</td>\n",
       "      <td>19.40</td>\n",
       "      <td>0.00</td>\n",
       "      <td>0.4393</td>\n",
       "      <td>0.4587</td>\n",
       "      <td>3822.995723</td>\n",
       "      <td>3822.995723</td>\n",
       "      <td>0.000000</td>\n",
       "      <td>244.374327</td>\n",
       "      <td>255.470633</td>\n",
       "    </tr>\n",
       "    <tr>\n",
       "      <th>4</th>\n",
       "      <td>18.60</td>\n",
       "      <td>18.62</td>\n",
       "      <td>0.02</td>\n",
       "      <td>-0.3607</td>\n",
       "      <td>-0.3213</td>\n",
       "      <td>3369.282723</td>\n",
       "      <td>3380.163068</td>\n",
       "      <td>10.880345</td>\n",
       "      <td>-209.338673</td>\n",
       "      <td>-187.362022</td>\n",
       "    </tr>\n",
       "  </tbody>\n",
       "</table>\n",
       "</div>"
      ],
      "text/plain": [
       "      D1     D2  diferenca_D1_D2  desvio_absoluto_D1  desvio_absoluto_D2  \\\n",
       "0  18.50  18.60             0.10             -0.4607             -0.3413   \n",
       "1  18.53  18.63             0.10             -0.4307             -0.3113   \n",
       "2  19.51  19.51             0.00              0.5493              0.5687   \n",
       "3  19.40  19.40             0.00              0.4393              0.4587   \n",
       "4  18.60  18.62             0.02             -0.3607             -0.3213   \n",
       "\n",
       "     volume_V1    volume_V2  diferença_V1_V2  desvio_absoluto_V1  \\\n",
       "0  3315.231098  3369.282723        54.051625         -263.390298   \n",
       "1  3331.385417  3385.612013        54.226596         -247.235979   \n",
       "2  3888.395488  3888.395488         0.000000          309.774092   \n",
       "3  3822.995723  3822.995723         0.000000          244.374327   \n",
       "4  3369.282723  3380.163068        10.880345         -209.338673   \n",
       "\n",
       "   desvio_absoluto_V2  \n",
       "0         -198.242367  \n",
       "1         -181.913077  \n",
       "2          320.870398  \n",
       "3          255.470633  \n",
       "4         -187.362022  "
      ]
     },
     "execution_count": 139,
     "metadata": {},
     "output_type": "execute_result"
    }
   ],
   "source": [
    "df['desvio_absoluto_V1'] = df['volume_V1'] - v_media_D1\n",
    "df['desvio_absoluto_V2'] = df['volume_V2'] - v_media_D2\n",
    "df.head()"
   ]
  },
  {
   "cell_type": "markdown",
   "id": "cbd7def1-7e5a-4530-8e6e-f31470f1fd0a",
   "metadata": {},
   "source": [
    "#### Calculando Incerteza dos Volumes"
   ]
  },
  {
   "cell_type": "markdown",
   "id": "d2b103a7-74f0-4a18-8cbe-4e61524247c3",
   "metadata": {},
   "source": [
    "* Colocar a coluna de desvio padrão em módulo para ficar positiva e somar com o método `abs()`"
   ]
  },
  {
   "cell_type": "code",
   "execution_count": 141,
   "id": "52b073a4-1b46-42d1-9897-e0ea90e8b5de",
   "metadata": {},
   "outputs": [
    {
     "data": {
      "text/html": [
       "<div>\n",
       "<style scoped>\n",
       "    .dataframe tbody tr th:only-of-type {\n",
       "        vertical-align: middle;\n",
       "    }\n",
       "\n",
       "    .dataframe tbody tr th {\n",
       "        vertical-align: top;\n",
       "    }\n",
       "\n",
       "    .dataframe thead th {\n",
       "        text-align: right;\n",
       "    }\n",
       "</style>\n",
       "<table border=\"1\" class=\"dataframe\">\n",
       "  <thead>\n",
       "    <tr style=\"text-align: right;\">\n",
       "      <th></th>\n",
       "      <th>D1</th>\n",
       "      <th>D2</th>\n",
       "      <th>diferenca_D1_D2</th>\n",
       "      <th>desvio_absoluto_D1</th>\n",
       "      <th>desvio_absoluto_D2</th>\n",
       "      <th>volume_V1</th>\n",
       "      <th>volume_V2</th>\n",
       "      <th>diferença_V1_V2</th>\n",
       "      <th>desvio_absoluto_V1</th>\n",
       "      <th>desvio_absoluto_V2</th>\n",
       "      <th>desvio_absoluto_V1_modulo</th>\n",
       "      <th>desvio_absoluto_V2_modulo</th>\n",
       "    </tr>\n",
       "  </thead>\n",
       "  <tbody>\n",
       "    <tr>\n",
       "      <th>0</th>\n",
       "      <td>18.50</td>\n",
       "      <td>18.60</td>\n",
       "      <td>0.10</td>\n",
       "      <td>-0.4607</td>\n",
       "      <td>-0.3413</td>\n",
       "      <td>3315.231098</td>\n",
       "      <td>3369.282723</td>\n",
       "      <td>54.051625</td>\n",
       "      <td>-263.390298</td>\n",
       "      <td>-198.242367</td>\n",
       "      <td>263.390298</td>\n",
       "      <td>198.242367</td>\n",
       "    </tr>\n",
       "    <tr>\n",
       "      <th>1</th>\n",
       "      <td>18.53</td>\n",
       "      <td>18.63</td>\n",
       "      <td>0.10</td>\n",
       "      <td>-0.4307</td>\n",
       "      <td>-0.3113</td>\n",
       "      <td>3331.385417</td>\n",
       "      <td>3385.612013</td>\n",
       "      <td>54.226596</td>\n",
       "      <td>-247.235979</td>\n",
       "      <td>-181.913077</td>\n",
       "      <td>247.235979</td>\n",
       "      <td>181.913077</td>\n",
       "    </tr>\n",
       "    <tr>\n",
       "      <th>2</th>\n",
       "      <td>19.51</td>\n",
       "      <td>19.51</td>\n",
       "      <td>0.00</td>\n",
       "      <td>0.5493</td>\n",
       "      <td>0.5687</td>\n",
       "      <td>3888.395488</td>\n",
       "      <td>3888.395488</td>\n",
       "      <td>0.000000</td>\n",
       "      <td>309.774092</td>\n",
       "      <td>320.870398</td>\n",
       "      <td>309.774092</td>\n",
       "      <td>320.870398</td>\n",
       "    </tr>\n",
       "    <tr>\n",
       "      <th>3</th>\n",
       "      <td>19.40</td>\n",
       "      <td>19.40</td>\n",
       "      <td>0.00</td>\n",
       "      <td>0.4393</td>\n",
       "      <td>0.4587</td>\n",
       "      <td>3822.995723</td>\n",
       "      <td>3822.995723</td>\n",
       "      <td>0.000000</td>\n",
       "      <td>244.374327</td>\n",
       "      <td>255.470633</td>\n",
       "      <td>244.374327</td>\n",
       "      <td>255.470633</td>\n",
       "    </tr>\n",
       "    <tr>\n",
       "      <th>4</th>\n",
       "      <td>18.60</td>\n",
       "      <td>18.62</td>\n",
       "      <td>0.02</td>\n",
       "      <td>-0.3607</td>\n",
       "      <td>-0.3213</td>\n",
       "      <td>3369.282723</td>\n",
       "      <td>3380.163068</td>\n",
       "      <td>10.880345</td>\n",
       "      <td>-209.338673</td>\n",
       "      <td>-187.362022</td>\n",
       "      <td>209.338673</td>\n",
       "      <td>187.362022</td>\n",
       "    </tr>\n",
       "  </tbody>\n",
       "</table>\n",
       "</div>"
      ],
      "text/plain": [
       "      D1     D2  diferenca_D1_D2  desvio_absoluto_D1  desvio_absoluto_D2  \\\n",
       "0  18.50  18.60             0.10             -0.4607             -0.3413   \n",
       "1  18.53  18.63             0.10             -0.4307             -0.3113   \n",
       "2  19.51  19.51             0.00              0.5493              0.5687   \n",
       "3  19.40  19.40             0.00              0.4393              0.4587   \n",
       "4  18.60  18.62             0.02             -0.3607             -0.3213   \n",
       "\n",
       "     volume_V1    volume_V2  diferença_V1_V2  desvio_absoluto_V1  \\\n",
       "0  3315.231098  3369.282723        54.051625         -263.390298   \n",
       "1  3331.385417  3385.612013        54.226596         -247.235979   \n",
       "2  3888.395488  3888.395488         0.000000          309.774092   \n",
       "3  3822.995723  3822.995723         0.000000          244.374327   \n",
       "4  3369.282723  3380.163068        10.880345         -209.338673   \n",
       "\n",
       "   desvio_absoluto_V2  desvio_absoluto_V1_modulo  desvio_absoluto_V2_modulo  \n",
       "0         -198.242367                 263.390298                 198.242367  \n",
       "1         -181.913077                 247.235979                 181.913077  \n",
       "2          320.870398                 309.774092                 320.870398  \n",
       "3          255.470633                 244.374327                 255.470633  \n",
       "4         -187.362022                 209.338673                 187.362022  "
      ]
     },
     "execution_count": 141,
     "metadata": {},
     "output_type": "execute_result"
    }
   ],
   "source": [
    "df['desvio_absoluto_V1_modulo'] = df['desvio_absoluto_V1'].abs()\n",
    "df['desvio_absoluto_V2_modulo'] = df['desvio_absoluto_V2'].abs()\n",
    "df.head()"
   ]
  },
  {
   "cell_type": "markdown",
   "id": "e07bcc9c-e313-415a-a8f3-a75e97b95616",
   "metadata": {},
   "source": [
    "* Calculando a incerteza absoluta:"
   ]
  },
  {
   "cell_type": "code",
   "execution_count": 142,
   "id": "5686eadb-3a56-4b62-b597-277d55c64fff",
   "metadata": {},
   "outputs": [
    {
     "name": "stdout",
     "output_type": "stream",
     "text": [
      "Incerteza D1: 274.7998246720944\n",
      "Incerteza D2: 266.5823596345082\n"
     ]
    }
   ],
   "source": [
    "incerteza_V1 = (1/len(df))*df['desvio_absoluto_V1_modulo'].sum()\n",
    "incerteza_V2 = (1/len(df))*df['desvio_absoluto_V2_modulo'].sum()\n",
    "print(f'Incerteza D1: {incerteza_V1}\\nIncerteza D2: {incerteza_V2}')"
   ]
  },
  {
   "cell_type": "markdown",
   "id": "cc4bd325-3530-467e-a966-a58319dac8a9",
   "metadata": {},
   "source": [
    "`RESPOSTA:`"
   ]
  },
  {
   "cell_type": "code",
   "execution_count": 143,
   "id": "c685be48-368d-4be7-9911-47383bed4a30",
   "metadata": {},
   "outputs": [
    {
     "name": "stdout",
     "output_type": "stream",
     "text": [
      "Primeira medida: 3578.6214 +- 274.7998\n",
      "Segunda medida: 3567.5251 +- 266.5824\n"
     ]
    }
   ],
   "source": [
    "print(f'Primeira medida: {round(v_media_D1,4)} +- {round(incerteza_V1,4)}\\nSegunda medida: {round(v_media_D2,4)} +- {round(incerteza_V2,4)}')"
   ]
  },
  {
   "cell_type": "markdown",
   "id": "f234607d-0b74-45f7-a243-0deb04c4411e",
   "metadata": {},
   "source": [
    "* Dropando colunas do modulo (desnecessárias):"
   ]
  },
  {
   "cell_type": "code",
   "execution_count": 144,
   "id": "d7e7cdd0-2398-4d99-9ac6-11fedc759e8e",
   "metadata": {},
   "outputs": [
    {
     "data": {
      "text/html": [
       "<div>\n",
       "<style scoped>\n",
       "    .dataframe tbody tr th:only-of-type {\n",
       "        vertical-align: middle;\n",
       "    }\n",
       "\n",
       "    .dataframe tbody tr th {\n",
       "        vertical-align: top;\n",
       "    }\n",
       "\n",
       "    .dataframe thead th {\n",
       "        text-align: right;\n",
       "    }\n",
       "</style>\n",
       "<table border=\"1\" class=\"dataframe\">\n",
       "  <thead>\n",
       "    <tr style=\"text-align: right;\">\n",
       "      <th></th>\n",
       "      <th>D1</th>\n",
       "      <th>D2</th>\n",
       "      <th>diferenca_D1_D2</th>\n",
       "      <th>desvio_absoluto_D1</th>\n",
       "      <th>desvio_absoluto_D2</th>\n",
       "      <th>volume_V1</th>\n",
       "      <th>volume_V2</th>\n",
       "      <th>diferença_V1_V2</th>\n",
       "      <th>desvio_absoluto_V1</th>\n",
       "      <th>desvio_absoluto_V2</th>\n",
       "    </tr>\n",
       "  </thead>\n",
       "  <tbody>\n",
       "    <tr>\n",
       "      <th>0</th>\n",
       "      <td>18.50</td>\n",
       "      <td>18.60</td>\n",
       "      <td>0.10</td>\n",
       "      <td>-0.4607</td>\n",
       "      <td>-0.3413</td>\n",
       "      <td>3315.231098</td>\n",
       "      <td>3369.282723</td>\n",
       "      <td>54.051625</td>\n",
       "      <td>-263.390298</td>\n",
       "      <td>-198.242367</td>\n",
       "    </tr>\n",
       "    <tr>\n",
       "      <th>1</th>\n",
       "      <td>18.53</td>\n",
       "      <td>18.63</td>\n",
       "      <td>0.10</td>\n",
       "      <td>-0.4307</td>\n",
       "      <td>-0.3113</td>\n",
       "      <td>3331.385417</td>\n",
       "      <td>3385.612013</td>\n",
       "      <td>54.226596</td>\n",
       "      <td>-247.235979</td>\n",
       "      <td>-181.913077</td>\n",
       "    </tr>\n",
       "    <tr>\n",
       "      <th>2</th>\n",
       "      <td>19.51</td>\n",
       "      <td>19.51</td>\n",
       "      <td>0.00</td>\n",
       "      <td>0.5493</td>\n",
       "      <td>0.5687</td>\n",
       "      <td>3888.395488</td>\n",
       "      <td>3888.395488</td>\n",
       "      <td>0.000000</td>\n",
       "      <td>309.774092</td>\n",
       "      <td>320.870398</td>\n",
       "    </tr>\n",
       "    <tr>\n",
       "      <th>3</th>\n",
       "      <td>19.40</td>\n",
       "      <td>19.40</td>\n",
       "      <td>0.00</td>\n",
       "      <td>0.4393</td>\n",
       "      <td>0.4587</td>\n",
       "      <td>3822.995723</td>\n",
       "      <td>3822.995723</td>\n",
       "      <td>0.000000</td>\n",
       "      <td>244.374327</td>\n",
       "      <td>255.470633</td>\n",
       "    </tr>\n",
       "    <tr>\n",
       "      <th>4</th>\n",
       "      <td>18.60</td>\n",
       "      <td>18.62</td>\n",
       "      <td>0.02</td>\n",
       "      <td>-0.3607</td>\n",
       "      <td>-0.3213</td>\n",
       "      <td>3369.282723</td>\n",
       "      <td>3380.163068</td>\n",
       "      <td>10.880345</td>\n",
       "      <td>-209.338673</td>\n",
       "      <td>-187.362022</td>\n",
       "    </tr>\n",
       "  </tbody>\n",
       "</table>\n",
       "</div>"
      ],
      "text/plain": [
       "      D1     D2  diferenca_D1_D2  desvio_absoluto_D1  desvio_absoluto_D2  \\\n",
       "0  18.50  18.60             0.10             -0.4607             -0.3413   \n",
       "1  18.53  18.63             0.10             -0.4307             -0.3113   \n",
       "2  19.51  19.51             0.00              0.5493              0.5687   \n",
       "3  19.40  19.40             0.00              0.4393              0.4587   \n",
       "4  18.60  18.62             0.02             -0.3607             -0.3213   \n",
       "\n",
       "     volume_V1    volume_V2  diferença_V1_V2  desvio_absoluto_V1  \\\n",
       "0  3315.231098  3369.282723        54.051625         -263.390298   \n",
       "1  3331.385417  3385.612013        54.226596         -247.235979   \n",
       "2  3888.395488  3888.395488         0.000000          309.774092   \n",
       "3  3822.995723  3822.995723         0.000000          244.374327   \n",
       "4  3369.282723  3380.163068        10.880345         -209.338673   \n",
       "\n",
       "   desvio_absoluto_V2  \n",
       "0         -198.242367  \n",
       "1         -181.913077  \n",
       "2          320.870398  \n",
       "3          255.470633  \n",
       "4         -187.362022  "
      ]
     },
     "execution_count": 144,
     "metadata": {},
     "output_type": "execute_result"
    }
   ],
   "source": [
    "df = df.drop(columns=['desvio_absoluto_V1_modulo', 'desvio_absoluto_V2_modulo'], axis=1)\n",
    "df.head()"
   ]
  },
  {
   "cell_type": "markdown",
   "id": "dc77f292-9537-4f49-ac86-4f38b38d7069",
   "metadata": {},
   "source": [
    "#### Volume desvio médio"
   ]
  },
  {
   "cell_type": "code",
   "execution_count": 145,
   "id": "949de06a-4905-4d7a-9af4-5f2aeca3d03f",
   "metadata": {},
   "outputs": [
    {
     "data": {
      "text/html": [
       "<div>\n",
       "<style scoped>\n",
       "    .dataframe tbody tr th:only-of-type {\n",
       "        vertical-align: middle;\n",
       "    }\n",
       "\n",
       "    .dataframe tbody tr th {\n",
       "        vertical-align: top;\n",
       "    }\n",
       "\n",
       "    .dataframe thead th {\n",
       "        text-align: right;\n",
       "    }\n",
       "</style>\n",
       "<table border=\"1\" class=\"dataframe\">\n",
       "  <thead>\n",
       "    <tr style=\"text-align: right;\">\n",
       "      <th></th>\n",
       "      <th>D1</th>\n",
       "      <th>D2</th>\n",
       "      <th>diferenca_D1_D2</th>\n",
       "      <th>desvio_absoluto_D1</th>\n",
       "      <th>desvio_absoluto_D2</th>\n",
       "      <th>volume_V1</th>\n",
       "      <th>volume_V2</th>\n",
       "      <th>diferença_V1_V2</th>\n",
       "      <th>desvio_absoluto_V1</th>\n",
       "      <th>desvio_absoluto_V2</th>\n",
       "      <th>desvio_absoluto_V1_quadrado</th>\n",
       "      <th>desvio_absoluto_V2_quadrado</th>\n",
       "    </tr>\n",
       "  </thead>\n",
       "  <tbody>\n",
       "    <tr>\n",
       "      <th>0</th>\n",
       "      <td>18.50</td>\n",
       "      <td>18.60</td>\n",
       "      <td>0.10</td>\n",
       "      <td>-0.4607</td>\n",
       "      <td>-0.3413</td>\n",
       "      <td>3315.231098</td>\n",
       "      <td>3369.282723</td>\n",
       "      <td>54.051625</td>\n",
       "      <td>-263.390298</td>\n",
       "      <td>-198.242367</td>\n",
       "      <td>69374.449147</td>\n",
       "      <td>39300.036063</td>\n",
       "    </tr>\n",
       "    <tr>\n",
       "      <th>1</th>\n",
       "      <td>18.53</td>\n",
       "      <td>18.63</td>\n",
       "      <td>0.10</td>\n",
       "      <td>-0.4307</td>\n",
       "      <td>-0.3113</td>\n",
       "      <td>3331.385417</td>\n",
       "      <td>3385.612013</td>\n",
       "      <td>54.226596</td>\n",
       "      <td>-247.235979</td>\n",
       "      <td>-181.913077</td>\n",
       "      <td>61125.629285</td>\n",
       "      <td>33092.367507</td>\n",
       "    </tr>\n",
       "    <tr>\n",
       "      <th>2</th>\n",
       "      <td>19.51</td>\n",
       "      <td>19.51</td>\n",
       "      <td>0.00</td>\n",
       "      <td>0.5493</td>\n",
       "      <td>0.5687</td>\n",
       "      <td>3888.395488</td>\n",
       "      <td>3888.395488</td>\n",
       "      <td>0.000000</td>\n",
       "      <td>309.774092</td>\n",
       "      <td>320.870398</td>\n",
       "      <td>95959.988167</td>\n",
       "      <td>102957.812376</td>\n",
       "    </tr>\n",
       "    <tr>\n",
       "      <th>3</th>\n",
       "      <td>19.40</td>\n",
       "      <td>19.40</td>\n",
       "      <td>0.00</td>\n",
       "      <td>0.4393</td>\n",
       "      <td>0.4587</td>\n",
       "      <td>3822.995723</td>\n",
       "      <td>3822.995723</td>\n",
       "      <td>0.000000</td>\n",
       "      <td>244.374327</td>\n",
       "      <td>255.470633</td>\n",
       "      <td>59718.811648</td>\n",
       "      <td>65265.244248</td>\n",
       "    </tr>\n",
       "    <tr>\n",
       "      <th>4</th>\n",
       "      <td>18.60</td>\n",
       "      <td>18.62</td>\n",
       "      <td>0.02</td>\n",
       "      <td>-0.3607</td>\n",
       "      <td>-0.3213</td>\n",
       "      <td>3369.282723</td>\n",
       "      <td>3380.163068</td>\n",
       "      <td>10.880345</td>\n",
       "      <td>-209.338673</td>\n",
       "      <td>-187.362022</td>\n",
       "      <td>43822.679981</td>\n",
       "      <td>35104.527332</td>\n",
       "    </tr>\n",
       "  </tbody>\n",
       "</table>\n",
       "</div>"
      ],
      "text/plain": [
       "      D1     D2  diferenca_D1_D2  desvio_absoluto_D1  desvio_absoluto_D2  \\\n",
       "0  18.50  18.60             0.10             -0.4607             -0.3413   \n",
       "1  18.53  18.63             0.10             -0.4307             -0.3113   \n",
       "2  19.51  19.51             0.00              0.5493              0.5687   \n",
       "3  19.40  19.40             0.00              0.4393              0.4587   \n",
       "4  18.60  18.62             0.02             -0.3607             -0.3213   \n",
       "\n",
       "     volume_V1    volume_V2  diferença_V1_V2  desvio_absoluto_V1  \\\n",
       "0  3315.231098  3369.282723        54.051625         -263.390298   \n",
       "1  3331.385417  3385.612013        54.226596         -247.235979   \n",
       "2  3888.395488  3888.395488         0.000000          309.774092   \n",
       "3  3822.995723  3822.995723         0.000000          244.374327   \n",
       "4  3369.282723  3380.163068        10.880345         -209.338673   \n",
       "\n",
       "   desvio_absoluto_V2  desvio_absoluto_V1_quadrado  \\\n",
       "0         -198.242367                 69374.449147   \n",
       "1         -181.913077                 61125.629285   \n",
       "2          320.870398                 95959.988167   \n",
       "3          255.470633                 59718.811648   \n",
       "4         -187.362022                 43822.679981   \n",
       "\n",
       "   desvio_absoluto_V2_quadrado  \n",
       "0                 39300.036063  \n",
       "1                 33092.367507  \n",
       "2                102957.812376  \n",
       "3                 65265.244248  \n",
       "4                 35104.527332  "
      ]
     },
     "execution_count": 145,
     "metadata": {},
     "output_type": "execute_result"
    }
   ],
   "source": [
    "df['desvio_absoluto_V1_quadrado'] = df['desvio_absoluto_V1']**2\n",
    "df['desvio_absoluto_V2_quadrado'] = df['desvio_absoluto_V2']**2\n",
    "df.head()"
   ]
  },
  {
   "cell_type": "code",
   "execution_count": 146,
   "id": "26f8d104-53ec-4bbb-a43d-0d7277a79c35",
   "metadata": {},
   "outputs": [
    {
     "data": {
      "text/html": [
       "<div>\n",
       "<style scoped>\n",
       "    .dataframe tbody tr th:only-of-type {\n",
       "        vertical-align: middle;\n",
       "    }\n",
       "\n",
       "    .dataframe tbody tr th {\n",
       "        vertical-align: top;\n",
       "    }\n",
       "\n",
       "    .dataframe thead th {\n",
       "        text-align: right;\n",
       "    }\n",
       "</style>\n",
       "<table border=\"1\" class=\"dataframe\">\n",
       "  <thead>\n",
       "    <tr style=\"text-align: right;\">\n",
       "      <th></th>\n",
       "      <th>D1</th>\n",
       "      <th>D2</th>\n",
       "      <th>diferenca_D1_D2</th>\n",
       "      <th>desvio_absoluto_D1</th>\n",
       "      <th>desvio_absoluto_D2</th>\n",
       "      <th>volume_V1</th>\n",
       "      <th>volume_V2</th>\n",
       "      <th>diferença_V1_V2</th>\n",
       "      <th>desvio_absoluto_V1</th>\n",
       "      <th>desvio_absoluto_V2</th>\n",
       "      <th>desvio_absoluto_V1_quadrado</th>\n",
       "      <th>desvio_absoluto_V2_quadrado</th>\n",
       "    </tr>\n",
       "  </thead>\n",
       "  <tbody>\n",
       "    <tr>\n",
       "      <th>0</th>\n",
       "      <td>18.50</td>\n",
       "      <td>18.60</td>\n",
       "      <td>0.10</td>\n",
       "      <td>-0.4607</td>\n",
       "      <td>-0.3413</td>\n",
       "      <td>3315.231098</td>\n",
       "      <td>3369.282723</td>\n",
       "      <td>54.051625</td>\n",
       "      <td>-263.390298</td>\n",
       "      <td>-198.242367</td>\n",
       "      <td>693.744491</td>\n",
       "      <td>393.000361</td>\n",
       "    </tr>\n",
       "    <tr>\n",
       "      <th>1</th>\n",
       "      <td>18.53</td>\n",
       "      <td>18.63</td>\n",
       "      <td>0.10</td>\n",
       "      <td>-0.4307</td>\n",
       "      <td>-0.3113</td>\n",
       "      <td>3331.385417</td>\n",
       "      <td>3385.612013</td>\n",
       "      <td>54.226596</td>\n",
       "      <td>-247.235979</td>\n",
       "      <td>-181.913077</td>\n",
       "      <td>611.256293</td>\n",
       "      <td>330.923675</td>\n",
       "    </tr>\n",
       "    <tr>\n",
       "      <th>2</th>\n",
       "      <td>19.51</td>\n",
       "      <td>19.51</td>\n",
       "      <td>0.00</td>\n",
       "      <td>0.5493</td>\n",
       "      <td>0.5687</td>\n",
       "      <td>3888.395488</td>\n",
       "      <td>3888.395488</td>\n",
       "      <td>0.000000</td>\n",
       "      <td>309.774092</td>\n",
       "      <td>320.870398</td>\n",
       "      <td>959.599882</td>\n",
       "      <td>1029.578124</td>\n",
       "    </tr>\n",
       "    <tr>\n",
       "      <th>3</th>\n",
       "      <td>19.40</td>\n",
       "      <td>19.40</td>\n",
       "      <td>0.00</td>\n",
       "      <td>0.4393</td>\n",
       "      <td>0.4587</td>\n",
       "      <td>3822.995723</td>\n",
       "      <td>3822.995723</td>\n",
       "      <td>0.000000</td>\n",
       "      <td>244.374327</td>\n",
       "      <td>255.470633</td>\n",
       "      <td>597.188116</td>\n",
       "      <td>652.652442</td>\n",
       "    </tr>\n",
       "    <tr>\n",
       "      <th>4</th>\n",
       "      <td>18.60</td>\n",
       "      <td>18.62</td>\n",
       "      <td>0.02</td>\n",
       "      <td>-0.3607</td>\n",
       "      <td>-0.3213</td>\n",
       "      <td>3369.282723</td>\n",
       "      <td>3380.163068</td>\n",
       "      <td>10.880345</td>\n",
       "      <td>-209.338673</td>\n",
       "      <td>-187.362022</td>\n",
       "      <td>438.226800</td>\n",
       "      <td>351.045273</td>\n",
       "    </tr>\n",
       "  </tbody>\n",
       "</table>\n",
       "</div>"
      ],
      "text/plain": [
       "      D1     D2  diferenca_D1_D2  desvio_absoluto_D1  desvio_absoluto_D2  \\\n",
       "0  18.50  18.60             0.10             -0.4607             -0.3413   \n",
       "1  18.53  18.63             0.10             -0.4307             -0.3113   \n",
       "2  19.51  19.51             0.00              0.5493              0.5687   \n",
       "3  19.40  19.40             0.00              0.4393              0.4587   \n",
       "4  18.60  18.62             0.02             -0.3607             -0.3213   \n",
       "\n",
       "     volume_V1    volume_V2  diferença_V1_V2  desvio_absoluto_V1  \\\n",
       "0  3315.231098  3369.282723        54.051625         -263.390298   \n",
       "1  3331.385417  3385.612013        54.226596         -247.235979   \n",
       "2  3888.395488  3888.395488         0.000000          309.774092   \n",
       "3  3822.995723  3822.995723         0.000000          244.374327   \n",
       "4  3369.282723  3380.163068        10.880345         -209.338673   \n",
       "\n",
       "   desvio_absoluto_V2  desvio_absoluto_V1_quadrado  \\\n",
       "0         -198.242367                   693.744491   \n",
       "1         -181.913077                   611.256293   \n",
       "2          320.870398                   959.599882   \n",
       "3          255.470633                   597.188116   \n",
       "4         -187.362022                   438.226800   \n",
       "\n",
       "   desvio_absoluto_V2_quadrado  \n",
       "0                   393.000361  \n",
       "1                   330.923675  \n",
       "2                  1029.578124  \n",
       "3                   652.652442  \n",
       "4                   351.045273  "
      ]
     },
     "execution_count": 146,
     "metadata": {},
     "output_type": "execute_result"
    }
   ],
   "source": [
    "df['desvio_absoluto_V1_quadrado'] = df['desvio_absoluto_V1_quadrado']/(len(df))\n",
    "df['desvio_absoluto_V2_quadrado'] = df['desvio_absoluto_V2_quadrado']/(len(df))\n",
    "df.head()"
   ]
  },
  {
   "cell_type": "markdown",
   "id": "3314638b-a5d9-4bbf-8ca5-2be31a58221c",
   "metadata": {},
   "source": [
    "* Calculando raiz da soma:"
   ]
  },
  {
   "cell_type": "code",
   "execution_count": 148,
   "id": "605bc8bf-5a73-4f53-96e2-236a3e342a90",
   "metadata": {},
   "outputs": [
    {
     "name": "stdout",
     "output_type": "stream",
     "text": [
      "Desvio Médio V1: 319.7061426576012\n",
      "Desvio Médio V2: 317.2353348188203\n"
     ]
    }
   ],
   "source": [
    "desvio_medio_V1 = math.sqrt(df['desvio_absoluto_V1_quadrado'].sum())\n",
    "desvio_medio_V2 = math.sqrt(df['desvio_absoluto_V2_quadrado'].sum())\n",
    "\n",
    "print(f'Desvio Médio V1: {desvio_medio_V1}\\nDesvio Médio V2: {desvio_medio_V2}')"
   ]
  },
  {
   "cell_type": "markdown",
   "id": "0069576f-a334-4e8a-9e46-f7d2a5ba010c",
   "metadata": {},
   "source": [
    "#### Cálculo desvio linha:"
   ]
  },
  {
   "cell_type": "code",
   "execution_count": 149,
   "id": "bc7a2162-afad-4089-a74c-c8770b6d87f6",
   "metadata": {},
   "outputs": [
    {
     "name": "stdout",
     "output_type": "stream",
     "text": [
      "Desvio linha D1: 31.970614265760123\n",
      "Desvio linha D1: 31.723533481882033\n"
     ]
    }
   ],
   "source": [
    "desvio_linha_V1 = (desvio_medio_V1/(math.sqrt(len(df))))\n",
    "desvio_linha_V2 = (desvio_medio_V2/(math.sqrt(len(df))))\n",
    "print(f'Desvio linha D1: {desvio_linha_V1}\\nDesvio linha D1: {desvio_linha_V2}')"
   ]
  },
  {
   "cell_type": "markdown",
   "id": "4381afdb-3439-485e-b6fc-12c2465cfcab",
   "metadata": {},
   "source": [
    "* Removendo colunas desvio_absoluto_Vx_quadrado (desnecessária):"
   ]
  },
  {
   "cell_type": "code",
   "execution_count": 150,
   "id": "418ec998-7e8a-4841-a997-90aef5827e87",
   "metadata": {},
   "outputs": [
    {
     "data": {
      "text/html": [
       "<div>\n",
       "<style scoped>\n",
       "    .dataframe tbody tr th:only-of-type {\n",
       "        vertical-align: middle;\n",
       "    }\n",
       "\n",
       "    .dataframe tbody tr th {\n",
       "        vertical-align: top;\n",
       "    }\n",
       "\n",
       "    .dataframe thead th {\n",
       "        text-align: right;\n",
       "    }\n",
       "</style>\n",
       "<table border=\"1\" class=\"dataframe\">\n",
       "  <thead>\n",
       "    <tr style=\"text-align: right;\">\n",
       "      <th></th>\n",
       "      <th>D1</th>\n",
       "      <th>D2</th>\n",
       "      <th>diferenca_D1_D2</th>\n",
       "      <th>desvio_absoluto_D1</th>\n",
       "      <th>desvio_absoluto_D2</th>\n",
       "      <th>volume_V1</th>\n",
       "      <th>volume_V2</th>\n",
       "      <th>diferença_V1_V2</th>\n",
       "      <th>desvio_absoluto_V1</th>\n",
       "      <th>desvio_absoluto_V2</th>\n",
       "    </tr>\n",
       "  </thead>\n",
       "  <tbody>\n",
       "    <tr>\n",
       "      <th>0</th>\n",
       "      <td>18.50</td>\n",
       "      <td>18.60</td>\n",
       "      <td>0.10</td>\n",
       "      <td>-0.4607</td>\n",
       "      <td>-0.3413</td>\n",
       "      <td>3315.231098</td>\n",
       "      <td>3369.282723</td>\n",
       "      <td>54.051625</td>\n",
       "      <td>-263.390298</td>\n",
       "      <td>-198.242367</td>\n",
       "    </tr>\n",
       "    <tr>\n",
       "      <th>1</th>\n",
       "      <td>18.53</td>\n",
       "      <td>18.63</td>\n",
       "      <td>0.10</td>\n",
       "      <td>-0.4307</td>\n",
       "      <td>-0.3113</td>\n",
       "      <td>3331.385417</td>\n",
       "      <td>3385.612013</td>\n",
       "      <td>54.226596</td>\n",
       "      <td>-247.235979</td>\n",
       "      <td>-181.913077</td>\n",
       "    </tr>\n",
       "    <tr>\n",
       "      <th>2</th>\n",
       "      <td>19.51</td>\n",
       "      <td>19.51</td>\n",
       "      <td>0.00</td>\n",
       "      <td>0.5493</td>\n",
       "      <td>0.5687</td>\n",
       "      <td>3888.395488</td>\n",
       "      <td>3888.395488</td>\n",
       "      <td>0.000000</td>\n",
       "      <td>309.774092</td>\n",
       "      <td>320.870398</td>\n",
       "    </tr>\n",
       "    <tr>\n",
       "      <th>3</th>\n",
       "      <td>19.40</td>\n",
       "      <td>19.40</td>\n",
       "      <td>0.00</td>\n",
       "      <td>0.4393</td>\n",
       "      <td>0.4587</td>\n",
       "      <td>3822.995723</td>\n",
       "      <td>3822.995723</td>\n",
       "      <td>0.000000</td>\n",
       "      <td>244.374327</td>\n",
       "      <td>255.470633</td>\n",
       "    </tr>\n",
       "    <tr>\n",
       "      <th>4</th>\n",
       "      <td>18.60</td>\n",
       "      <td>18.62</td>\n",
       "      <td>0.02</td>\n",
       "      <td>-0.3607</td>\n",
       "      <td>-0.3213</td>\n",
       "      <td>3369.282723</td>\n",
       "      <td>3380.163068</td>\n",
       "      <td>10.880345</td>\n",
       "      <td>-209.338673</td>\n",
       "      <td>-187.362022</td>\n",
       "    </tr>\n",
       "  </tbody>\n",
       "</table>\n",
       "</div>"
      ],
      "text/plain": [
       "      D1     D2  diferenca_D1_D2  desvio_absoluto_D1  desvio_absoluto_D2  \\\n",
       "0  18.50  18.60             0.10             -0.4607             -0.3413   \n",
       "1  18.53  18.63             0.10             -0.4307             -0.3113   \n",
       "2  19.51  19.51             0.00              0.5493              0.5687   \n",
       "3  19.40  19.40             0.00              0.4393              0.4587   \n",
       "4  18.60  18.62             0.02             -0.3607             -0.3213   \n",
       "\n",
       "     volume_V1    volume_V2  diferença_V1_V2  desvio_absoluto_V1  \\\n",
       "0  3315.231098  3369.282723        54.051625         -263.390298   \n",
       "1  3331.385417  3385.612013        54.226596         -247.235979   \n",
       "2  3888.395488  3888.395488         0.000000          309.774092   \n",
       "3  3822.995723  3822.995723         0.000000          244.374327   \n",
       "4  3369.282723  3380.163068        10.880345         -209.338673   \n",
       "\n",
       "   desvio_absoluto_V2  \n",
       "0         -198.242367  \n",
       "1         -181.913077  \n",
       "2          320.870398  \n",
       "3          255.470633  \n",
       "4         -187.362022  "
      ]
     },
     "execution_count": 150,
     "metadata": {},
     "output_type": "execute_result"
    }
   ],
   "source": [
    "df = df.drop(columns=['desvio_absoluto_V1_quadrado', 'desvio_absoluto_V2_quadrado'])\n",
    "df.head()"
   ]
  },
  {
   "cell_type": "markdown",
   "id": "5c64b6ec-0685-4c09-b1d1-484a6e70e769",
   "metadata": {},
   "source": [
    "## Salvando Dataframe"
   ]
  },
  {
   "cell_type": "code",
   "execution_count": 151,
   "id": "6fb3e493-93a7-4c95-9ca5-cd18ed4e5f70",
   "metadata": {},
   "outputs": [],
   "source": [
    "df.to_csv('./data/df.csv')"
   ]
  }
 ],
 "metadata": {
  "kernelspec": {
   "display_name": "Python 3 (ipykernel)",
   "language": "python",
   "name": "python3"
  },
  "language_info": {
   "codemirror_mode": {
    "name": "ipython",
    "version": 3
   },
   "file_extension": ".py",
   "mimetype": "text/x-python",
   "name": "python",
   "nbconvert_exporter": "python",
   "pygments_lexer": "ipython3",
   "version": "3.11.5"
  }
 },
 "nbformat": 4,
 "nbformat_minor": 5
}
