{
 "cells": [
  {
   "cell_type": "markdown",
   "id": "e5b8954b-d728-4e5a-8cfb-d770b568bfb8",
   "metadata": {},
   "source": [
    "## Física Aplicada: Análise de Dados"
   ]
  },
  {
   "cell_type": "markdown",
   "id": "4aabd043-cba7-4062-ac0f-e3deb10b31e4",
   "metadata": {},
   "source": [
    "`Nomes:`\n",
    "* Alice Vitória Boschetti\n",
    "* Felipe Cordeiro Carvalho\n",
    "* Gabriel Frigo Sena Silva\n",
    "* Joyce Nunes Alves\n",
    "* Eduardo Marques dos Santos\n",
    "* Kimberly Oliveira Germano Ribeiro"
   ]
  },
  {
   "cell_type": "markdown",
   "id": "2fefba77-7fca-49df-8fc9-cf2f0aa19224",
   "metadata": {},
   "source": [
    "## Import"
   ]
  },
  {
   "cell_type": "code",
   "execution_count": 1,
   "id": "e51d3980-c76b-46c0-a2f8-4d4803777458",
   "metadata": {},
   "outputs": [],
   "source": [
    "import pandas as pd\n",
    "import numpy as np\n",
    "import matplotlib.pyplot as plt\n",
    "import seaborn as sns\n",
    "import plotly.express as px"
   ]
  },
  {
   "cell_type": "markdown",
   "id": "a80eac1b-b060-45a2-8a84-b9e254da17cc",
   "metadata": {},
   "source": [
    "## Dataframe"
   ]
  },
  {
   "cell_type": "code",
   "execution_count": 3,
   "id": "dfedfdfc-e69c-4076-bb1b-7b998cbe4919",
   "metadata": {},
   "outputs": [
    {
     "data": {
      "text/html": [
       "<div>\n",
       "<style scoped>\n",
       "    .dataframe tbody tr th:only-of-type {\n",
       "        vertical-align: middle;\n",
       "    }\n",
       "\n",
       "    .dataframe tbody tr th {\n",
       "        vertical-align: top;\n",
       "    }\n",
       "\n",
       "    .dataframe thead th {\n",
       "        text-align: right;\n",
       "    }\n",
       "</style>\n",
       "<table border=\"1\" class=\"dataframe\">\n",
       "  <thead>\n",
       "    <tr style=\"text-align: right;\">\n",
       "      <th></th>\n",
       "      <th>D1</th>\n",
       "      <th>D2</th>\n",
       "      <th>diferenca_D1_D2</th>\n",
       "      <th>desvio_absoluto_D1</th>\n",
       "      <th>desvio_absoluto_D2</th>\n",
       "      <th>volume_V1</th>\n",
       "      <th>volume_V2</th>\n",
       "      <th>desvio_absoluto_V1</th>\n",
       "      <th>desvio_absoluto_V2</th>\n",
       "    </tr>\n",
       "  </thead>\n",
       "  <tbody>\n",
       "    <tr>\n",
       "      <th>0</th>\n",
       "      <td>18.50</td>\n",
       "      <td>18.60</td>\n",
       "      <td>0.10</td>\n",
       "      <td>-0.4607</td>\n",
       "      <td>-0.3413</td>\n",
       "      <td>3315.231098</td>\n",
       "      <td>3369.282723</td>\n",
       "      <td>-263.390298</td>\n",
       "      <td>-198.242367</td>\n",
       "    </tr>\n",
       "    <tr>\n",
       "      <th>1</th>\n",
       "      <td>18.53</td>\n",
       "      <td>18.63</td>\n",
       "      <td>0.10</td>\n",
       "      <td>-0.4307</td>\n",
       "      <td>-0.3113</td>\n",
       "      <td>3331.385417</td>\n",
       "      <td>3385.612013</td>\n",
       "      <td>-247.235979</td>\n",
       "      <td>-181.913077</td>\n",
       "    </tr>\n",
       "    <tr>\n",
       "      <th>2</th>\n",
       "      <td>19.51</td>\n",
       "      <td>19.51</td>\n",
       "      <td>0.00</td>\n",
       "      <td>0.5493</td>\n",
       "      <td>0.5687</td>\n",
       "      <td>3888.395488</td>\n",
       "      <td>3888.395488</td>\n",
       "      <td>309.774092</td>\n",
       "      <td>320.870398</td>\n",
       "    </tr>\n",
       "    <tr>\n",
       "      <th>3</th>\n",
       "      <td>19.40</td>\n",
       "      <td>19.40</td>\n",
       "      <td>0.00</td>\n",
       "      <td>0.4393</td>\n",
       "      <td>0.4587</td>\n",
       "      <td>3822.995723</td>\n",
       "      <td>3822.995723</td>\n",
       "      <td>244.374327</td>\n",
       "      <td>255.470633</td>\n",
       "    </tr>\n",
       "    <tr>\n",
       "      <th>4</th>\n",
       "      <td>18.60</td>\n",
       "      <td>18.62</td>\n",
       "      <td>0.02</td>\n",
       "      <td>-0.3607</td>\n",
       "      <td>-0.3213</td>\n",
       "      <td>3369.282723</td>\n",
       "      <td>3380.163068</td>\n",
       "      <td>-209.338673</td>\n",
       "      <td>-187.362022</td>\n",
       "    </tr>\n",
       "  </tbody>\n",
       "</table>\n",
       "</div>"
      ],
      "text/plain": [
       "      D1     D2  diferenca_D1_D2  desvio_absoluto_D1  desvio_absoluto_D2  \\\n",
       "0  18.50  18.60             0.10             -0.4607             -0.3413   \n",
       "1  18.53  18.63             0.10             -0.4307             -0.3113   \n",
       "2  19.51  19.51             0.00              0.5493              0.5687   \n",
       "3  19.40  19.40             0.00              0.4393              0.4587   \n",
       "4  18.60  18.62             0.02             -0.3607             -0.3213   \n",
       "\n",
       "     volume_V1    volume_V2  desvio_absoluto_V1  desvio_absoluto_V2  \n",
       "0  3315.231098  3369.282723         -263.390298         -198.242367  \n",
       "1  3331.385417  3385.612013         -247.235979         -181.913077  \n",
       "2  3888.395488  3888.395488          309.774092          320.870398  \n",
       "3  3822.995723  3822.995723          244.374327          255.470633  \n",
       "4  3369.282723  3380.163068         -209.338673         -187.362022  "
      ]
     },
     "execution_count": 3,
     "metadata": {},
     "output_type": "execute_result"
    }
   ],
   "source": [
    "df = pd.read_csv('./data/df.csv')\n",
    "df = df.drop(columns=['Unnamed: 0'])\n",
    "df.head()"
   ]
  },
  {
   "cell_type": "code",
   "execution_count": null,
   "id": "1a83660d-7ebf-4d96-abe8-1054f101c568",
   "metadata": {},
   "outputs": [],
   "source": []
  }
 ],
 "metadata": {
  "kernelspec": {
   "display_name": "Python 3 (ipykernel)",
   "language": "python",
   "name": "python3"
  },
  "language_info": {
   "codemirror_mode": {
    "name": "ipython",
    "version": 3
   },
   "file_extension": ".py",
   "mimetype": "text/x-python",
   "name": "python",
   "nbconvert_exporter": "python",
   "pygments_lexer": "ipython3",
   "version": "3.11.5"
  }
 },
 "nbformat": 4,
 "nbformat_minor": 5
}
